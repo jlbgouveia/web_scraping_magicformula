{
 "cells": [
  {
   "cell_type": "markdown",
   "metadata": {},
   "source": [
    "In this file:\n",
    "\n",
    "The goal is to perform a backtesting on the Prestige investment strategy\n",
    "\n",
    "0. Getting the file    \n",
    "\n",
    "\n",
    "1. Data Cleaning:    \n",
    "    • Data ending by the end of 2020-06-01 (too many missing data in 2020);    \n",
    "    • Removing the missing values \n",
    "    • Removing market cap lower than 50M\n",
    "\n",
    "\n",
    "2. Computing the 2 metrics:   \n",
    "    2.1 Earnings Yield --> EBIT / (Market Capital + Preferred Stock + Net Debt)    \n",
    "    2.2 Return on Capital --> EBIT / (Working Capital + Net Fixed Assets)        \n",
    "    2.3 Descriptive stats and removing outliers    \n",
    "    \n",
    "    • Remove firms with Earnings Yield higher than 0.2 (similar to excluding Price to Earnings smaller than 5, as indicated in the book, on page 97;    \n",
    "    • Remove top 2.4%, according to initial descriptive stats. Why? Because there are also absurd values for RoC. The 2.4% is chosen because it is equivalent to the percentage removed from the Earnings Yield\n",
    "        \n",
    "        \n",
    "3. Ranking the stocks on both indicators, per day. Then, sum those rankings, and rank from smallest to largest (getting the final ranking) Ranking ranking ranking   \n",
    "\n",
    "\n",
    "4. Get the list of the top 50 stocks per day    \n",
    "\n",
    "\n",
    "5. Check for bronze: create a dataframe of stocks, per day, which are new to the list over the past week (rolling window). Save the date. The index should be each date    \n",
    "\n",
    "\n",
    "6. Backtest the strategy: Buying the 'bronze' stocks, and selling them after one week"
   ]
  },
  {
   "cell_type": "code",
   "execution_count": 1,
   "metadata": {},
   "outputs": [],
   "source": [
    "import pandas as pd\n",
    "import numpy as np\n",
    "\n",
    "from dateutil.relativedelta import relativedelta"
   ]
  },
  {
   "cell_type": "markdown",
   "metadata": {},
   "source": [
    "### 0. Get the panel data file"
   ]
  },
  {
   "cell_type": "code",
   "execution_count": 2,
   "metadata": {},
   "outputs": [],
   "source": [
    "df = pd.read_csv('./panel_data_extraction.csv')\n",
    "df['Date'] = pd.to_datetime(df['Date']) #turning dates to datetime"
   ]
  },
  {
   "cell_type": "code",
   "execution_count": 3,
   "metadata": {
    "scrolled": true
   },
   "outputs": [
    {
     "data": {
      "text/html": [
       "<div>\n",
       "<style scoped>\n",
       "    .dataframe tbody tr th:only-of-type {\n",
       "        vertical-align: middle;\n",
       "    }\n",
       "\n",
       "    .dataframe tbody tr th {\n",
       "        vertical-align: top;\n",
       "    }\n",
       "\n",
       "    .dataframe thead th {\n",
       "        text-align: right;\n",
       "    }\n",
       "</style>\n",
       "<table border=\"1\" class=\"dataframe\">\n",
       "  <thead>\n",
       "    <tr style=\"text-align: right;\">\n",
       "      <th></th>\n",
       "      <th>Unnamed: 0</th>\n",
       "      <th>Date</th>\n",
       "      <th>Firm</th>\n",
       "      <th>Price</th>\n",
       "      <th>MC</th>\n",
       "      <th>EBIT</th>\n",
       "      <th>WC</th>\n",
       "      <th>NFA</th>\n",
       "      <th>PS</th>\n",
       "      <th>ND</th>\n",
       "    </tr>\n",
       "  </thead>\n",
       "  <tbody>\n",
       "    <tr>\n",
       "      <th>0</th>\n",
       "      <td>2015-11-27_ECL.N</td>\n",
       "      <td>2015-11-27</td>\n",
       "      <td>ECL.N</td>\n",
       "      <td>118.91</td>\n",
       "      <td>35114540.0</td>\n",
       "      <td>1571400.0</td>\n",
       "      <td>-316900.0</td>\n",
       "      <td>6909900.0</td>\n",
       "      <td>0.0</td>\n",
       "      <td>6261500.0</td>\n",
       "    </tr>\n",
       "    <tr>\n",
       "      <th>1</th>\n",
       "      <td>2015-11-30_ECL.N</td>\n",
       "      <td>2015-11-30</td>\n",
       "      <td>ECL.N</td>\n",
       "      <td>119.16</td>\n",
       "      <td>35188370.0</td>\n",
       "      <td>1571400.0</td>\n",
       "      <td>-316900.0</td>\n",
       "      <td>6909900.0</td>\n",
       "      <td>0.0</td>\n",
       "      <td>6261500.0</td>\n",
       "    </tr>\n",
       "    <tr>\n",
       "      <th>2</th>\n",
       "      <td>2015-12-01_ECL.N</td>\n",
       "      <td>2015-12-01</td>\n",
       "      <td>ECL.N</td>\n",
       "      <td>119.67</td>\n",
       "      <td>35338970.0</td>\n",
       "      <td>1571400.0</td>\n",
       "      <td>-316900.0</td>\n",
       "      <td>6909900.0</td>\n",
       "      <td>0.0</td>\n",
       "      <td>6261500.0</td>\n",
       "    </tr>\n",
       "    <tr>\n",
       "      <th>4183115</th>\n",
       "      <td>2020-11-25_OAS.OQ</td>\n",
       "      <td>2020-11-25</td>\n",
       "      <td>OAS.OQ</td>\n",
       "      <td>34.12</td>\n",
       "      <td>682400.0</td>\n",
       "      <td>NaN</td>\n",
       "      <td>NaN</td>\n",
       "      <td>3636138.0</td>\n",
       "      <td>NaN</td>\n",
       "      <td>NaN</td>\n",
       "    </tr>\n",
       "    <tr>\n",
       "      <th>4183116</th>\n",
       "      <td>2020-11-26_OAS.OQ</td>\n",
       "      <td>2020-11-26</td>\n",
       "      <td>OAS.OQ</td>\n",
       "      <td>34.12</td>\n",
       "      <td>682400.0</td>\n",
       "      <td>NaN</td>\n",
       "      <td>NaN</td>\n",
       "      <td>3636138.0</td>\n",
       "      <td>NaN</td>\n",
       "      <td>NaN</td>\n",
       "    </tr>\n",
       "    <tr>\n",
       "      <th>4183117</th>\n",
       "      <td>2020-11-27_OAS.OQ</td>\n",
       "      <td>2020-11-27</td>\n",
       "      <td>OAS.OQ</td>\n",
       "      <td>34.13</td>\n",
       "      <td>682600.0</td>\n",
       "      <td>NaN</td>\n",
       "      <td>NaN</td>\n",
       "      <td>3636138.0</td>\n",
       "      <td>NaN</td>\n",
       "      <td>NaN</td>\n",
       "    </tr>\n",
       "  </tbody>\n",
       "</table>\n",
       "</div>"
      ],
      "text/plain": [
       "                Unnamed: 0       Date    Firm   Price          MC       EBIT  \\\n",
       "0         2015-11-27_ECL.N 2015-11-27   ECL.N  118.91  35114540.0  1571400.0   \n",
       "1         2015-11-30_ECL.N 2015-11-30   ECL.N  119.16  35188370.0  1571400.0   \n",
       "2         2015-12-01_ECL.N 2015-12-01   ECL.N  119.67  35338970.0  1571400.0   \n",
       "4183115  2020-11-25_OAS.OQ 2020-11-25  OAS.OQ   34.12    682400.0        NaN   \n",
       "4183116  2020-11-26_OAS.OQ 2020-11-26  OAS.OQ   34.12    682400.0        NaN   \n",
       "4183117  2020-11-27_OAS.OQ 2020-11-27  OAS.OQ   34.13    682600.0        NaN   \n",
       "\n",
       "               WC        NFA   PS         ND  \n",
       "0       -316900.0  6909900.0  0.0  6261500.0  \n",
       "1       -316900.0  6909900.0  0.0  6261500.0  \n",
       "2       -316900.0  6909900.0  0.0  6261500.0  \n",
       "4183115       NaN  3636138.0  NaN        NaN  \n",
       "4183116       NaN  3636138.0  NaN        NaN  \n",
       "4183117       NaN  3636138.0  NaN        NaN  "
      ]
     },
     "execution_count": 3,
     "metadata": {},
     "output_type": "execute_result"
    }
   ],
   "source": [
    "pd.concat([df.head(3),df.tail(3)])"
   ]
  },
  {
   "cell_type": "code",
   "execution_count": 4,
   "metadata": {},
   "outputs": [
    {
     "data": {
      "text/plain": [
       "(4183118, 10)"
      ]
     },
     "execution_count": 4,
     "metadata": {},
     "output_type": "execute_result"
    }
   ],
   "source": [
    "#How many rows and columns?\n",
    "df.shape"
   ]
  },
  {
   "cell_type": "markdown",
   "metadata": {},
   "source": [
    "### 1. Data Cleaning"
   ]
  },
  {
   "cell_type": "code",
   "execution_count": 5,
   "metadata": {},
   "outputs": [],
   "source": [
    "#First of all, I want to conserve the original dataframe, so that I don't lose stock prices along the way, so let's \n",
    "#create a new one:\n",
    "\n",
    "df_new = df\n",
    "\n",
    "#Excluding data from 2020\n",
    "df_new = df_new.loc[df['Date'] < '2020-06-01']\n",
    "\n",
    "#Removing missing data\n",
    "df_new = df_new.dropna()\n",
    "\n",
    "#Removing market cap lower than 50M\n",
    "df_new = df_new.loc[df['MC'] > 50000]"
   ]
  },
  {
   "cell_type": "markdown",
   "metadata": {},
   "source": [
    "### 2. Computing the 2 metrics"
   ]
  },
  {
   "cell_type": "markdown",
   "metadata": {},
   "source": [
    "##### 2.0 Initial Descriptive stats"
   ]
  },
  {
   "cell_type": "code",
   "execution_count": 6,
   "metadata": {},
   "outputs": [
    {
     "data": {
      "text/html": [
       "<div>\n",
       "<style scoped>\n",
       "    .dataframe tbody tr th:only-of-type {\n",
       "        vertical-align: middle;\n",
       "    }\n",
       "\n",
       "    .dataframe tbody tr th {\n",
       "        vertical-align: top;\n",
       "    }\n",
       "\n",
       "    .dataframe thead th {\n",
       "        text-align: right;\n",
       "    }\n",
       "</style>\n",
       "<table border=\"1\" class=\"dataframe\">\n",
       "  <thead>\n",
       "    <tr style=\"text-align: right;\">\n",
       "      <th></th>\n",
       "      <th>Price</th>\n",
       "      <th>MC</th>\n",
       "      <th>EBIT</th>\n",
       "      <th>WC</th>\n",
       "      <th>NFA</th>\n",
       "      <th>PS</th>\n",
       "      <th>ND</th>\n",
       "    </tr>\n",
       "  </thead>\n",
       "  <tbody>\n",
       "    <tr>\n",
       "      <th>count</th>\n",
       "      <td>2.236058e+06</td>\n",
       "      <td>2.236058e+06</td>\n",
       "      <td>2.236058e+06</td>\n",
       "      <td>2.236058e+06</td>\n",
       "      <td>2.236058e+06</td>\n",
       "      <td>2.236058e+06</td>\n",
       "      <td>2.236058e+06</td>\n",
       "    </tr>\n",
       "    <tr>\n",
       "      <th>mean</th>\n",
       "      <td>3.577937e+02</td>\n",
       "      <td>1.023755e+07</td>\n",
       "      <td>5.640172e+05</td>\n",
       "      <td>7.311291e+05</td>\n",
       "      <td>2.478355e+06</td>\n",
       "      <td>1.557420e+07</td>\n",
       "      <td>1.561687e+06</td>\n",
       "    </tr>\n",
       "    <tr>\n",
       "      <th>std</th>\n",
       "      <td>5.892117e+04</td>\n",
       "      <td>5.420661e+07</td>\n",
       "      <td>2.926339e+06</td>\n",
       "      <td>4.872204e+06</td>\n",
       "      <td>9.920974e+06</td>\n",
       "      <td>1.974098e+08</td>\n",
       "      <td>7.898592e+06</td>\n",
       "    </tr>\n",
       "    <tr>\n",
       "      <th>min</th>\n",
       "      <td>1.310000e-02</td>\n",
       "      <td>5.001000e+04</td>\n",
       "      <td>-4.803396e+07</td>\n",
       "      <td>-5.417234e+07</td>\n",
       "      <td>-1.324400e+07</td>\n",
       "      <td>0.000000e+00</td>\n",
       "      <td>-1.608702e+08</td>\n",
       "    </tr>\n",
       "    <tr>\n",
       "      <th>25%</th>\n",
       "      <td>1.132000e+01</td>\n",
       "      <td>3.055600e+05</td>\n",
       "      <td>-1.070600e+04</td>\n",
       "      <td>2.549700e+04</td>\n",
       "      <td>8.915600e+04</td>\n",
       "      <td>0.000000e+00</td>\n",
       "      <td>-4.684700e+04</td>\n",
       "    </tr>\n",
       "    <tr>\n",
       "      <th>50%</th>\n",
       "      <td>2.671000e+01</td>\n",
       "      <td>1.209720e+06</td>\n",
       "      <td>4.658000e+04</td>\n",
       "      <td>1.326760e+05</td>\n",
       "      <td>3.825070e+05</td>\n",
       "      <td>0.000000e+00</td>\n",
       "      <td>6.748700e+04</td>\n",
       "    </tr>\n",
       "    <tr>\n",
       "      <th>75%</th>\n",
       "      <td>5.714000e+01</td>\n",
       "      <td>4.500668e+06</td>\n",
       "      <td>2.970000e+05</td>\n",
       "      <td>4.731240e+05</td>\n",
       "      <td>1.337067e+06</td>\n",
       "      <td>0.000000e+00</td>\n",
       "      <td>9.321610e+05</td>\n",
       "    </tr>\n",
       "    <tr>\n",
       "      <th>max</th>\n",
       "      <td>1.843014e+07</td>\n",
       "      <td>4.142027e+09</td>\n",
       "      <td>7.614300e+07</td>\n",
       "      <td>1.757371e+08</td>\n",
       "      <td>1.949847e+08</td>\n",
       "      <td>9.762000e+09</td>\n",
       "      <td>1.713010e+08</td>\n",
       "    </tr>\n",
       "  </tbody>\n",
       "</table>\n",
       "</div>"
      ],
      "text/plain": [
       "              Price            MC          EBIT            WC           NFA  \\\n",
       "count  2.236058e+06  2.236058e+06  2.236058e+06  2.236058e+06  2.236058e+06   \n",
       "mean   3.577937e+02  1.023755e+07  5.640172e+05  7.311291e+05  2.478355e+06   \n",
       "std    5.892117e+04  5.420661e+07  2.926339e+06  4.872204e+06  9.920974e+06   \n",
       "min    1.310000e-02  5.001000e+04 -4.803396e+07 -5.417234e+07 -1.324400e+07   \n",
       "25%    1.132000e+01  3.055600e+05 -1.070600e+04  2.549700e+04  8.915600e+04   \n",
       "50%    2.671000e+01  1.209720e+06  4.658000e+04  1.326760e+05  3.825070e+05   \n",
       "75%    5.714000e+01  4.500668e+06  2.970000e+05  4.731240e+05  1.337067e+06   \n",
       "max    1.843014e+07  4.142027e+09  7.614300e+07  1.757371e+08  1.949847e+08   \n",
       "\n",
       "                 PS            ND  \n",
       "count  2.236058e+06  2.236058e+06  \n",
       "mean   1.557420e+07  1.561687e+06  \n",
       "std    1.974098e+08  7.898592e+06  \n",
       "min    0.000000e+00 -1.608702e+08  \n",
       "25%    0.000000e+00 -4.684700e+04  \n",
       "50%    0.000000e+00  6.748700e+04  \n",
       "75%    0.000000e+00  9.321610e+05  \n",
       "max    9.762000e+09  1.713010e+08  "
      ]
     },
     "execution_count": 6,
     "metadata": {},
     "output_type": "execute_result"
    }
   ],
   "source": [
    "df_new.describe()"
   ]
  },
  {
   "cell_type": "markdown",
   "metadata": {},
   "source": [
    "##### 2.1 Earnings Yield   \n",
    "EBIT / (Market Capital + Preferred Stock + Net Debt)"
   ]
  },
  {
   "cell_type": "code",
   "execution_count": 7,
   "metadata": {},
   "outputs": [],
   "source": [
    "df_new.loc[:, 'EY'] = (df_new['EBIT']) / (df_new['MC'] + df_new['PS'] + df_new['ND'])"
   ]
  },
  {
   "cell_type": "markdown",
   "metadata": {},
   "source": [
    "##### 2.2 Return on Capital (RoC)\n",
    "\n",
    "EBIT / (Working Capital + Net Fixed Assets)   "
   ]
  },
  {
   "cell_type": "code",
   "execution_count": 8,
   "metadata": {},
   "outputs": [],
   "source": [
    "df_new.loc[:,'RoC'] = (df_new['EBIT']) / (df_new['WC'] + df_new['NFA'])"
   ]
  },
  {
   "cell_type": "markdown",
   "metadata": {},
   "source": [
    "##### 2.3 Descriptive stats of the metrics"
   ]
  },
  {
   "cell_type": "code",
   "execution_count": 9,
   "metadata": {},
   "outputs": [
    {
     "data": {
      "text/html": [
       "<div>\n",
       "<style scoped>\n",
       "    .dataframe tbody tr th:only-of-type {\n",
       "        vertical-align: middle;\n",
       "    }\n",
       "\n",
       "    .dataframe tbody tr th {\n",
       "        vertical-align: top;\n",
       "    }\n",
       "\n",
       "    .dataframe thead th {\n",
       "        text-align: right;\n",
       "    }\n",
       "</style>\n",
       "<table border=\"1\" class=\"dataframe\">\n",
       "  <thead>\n",
       "    <tr style=\"text-align: right;\">\n",
       "      <th></th>\n",
       "      <th>Price</th>\n",
       "      <th>MC</th>\n",
       "      <th>EBIT</th>\n",
       "      <th>WC</th>\n",
       "      <th>NFA</th>\n",
       "      <th>PS</th>\n",
       "      <th>ND</th>\n",
       "      <th>EY</th>\n",
       "      <th>RoC</th>\n",
       "    </tr>\n",
       "  </thead>\n",
       "  <tbody>\n",
       "    <tr>\n",
       "      <th>count</th>\n",
       "      <td>2236058.0</td>\n",
       "      <td>2.236058e+06</td>\n",
       "      <td>2236058.0</td>\n",
       "      <td>2236058.0</td>\n",
       "      <td>2236058.0</td>\n",
       "      <td>2.236058e+06</td>\n",
       "      <td>2236058.0</td>\n",
       "      <td>2236058.0</td>\n",
       "      <td>2236058.0</td>\n",
       "    </tr>\n",
       "    <tr>\n",
       "      <th>mean</th>\n",
       "      <td>357.8</td>\n",
       "      <td>1.023755e+07</td>\n",
       "      <td>564017.2</td>\n",
       "      <td>731129.1</td>\n",
       "      <td>2478355.4</td>\n",
       "      <td>1.557420e+07</td>\n",
       "      <td>1561687.3</td>\n",
       "      <td>0.0</td>\n",
       "      <td>0.2</td>\n",
       "    </tr>\n",
       "    <tr>\n",
       "      <th>std</th>\n",
       "      <td>58921.2</td>\n",
       "      <td>5.420661e+07</td>\n",
       "      <td>2926338.7</td>\n",
       "      <td>4872203.9</td>\n",
       "      <td>9920973.5</td>\n",
       "      <td>1.974098e+08</td>\n",
       "      <td>7898592.2</td>\n",
       "      <td>28.3</td>\n",
       "      <td>16.0</td>\n",
       "    </tr>\n",
       "    <tr>\n",
       "      <th>min</th>\n",
       "      <td>0.0</td>\n",
       "      <td>5.001000e+04</td>\n",
       "      <td>-48033955.0</td>\n",
       "      <td>-54172338.0</td>\n",
       "      <td>-13244000.0</td>\n",
       "      <td>0.000000e+00</td>\n",
       "      <td>-160870190.0</td>\n",
       "      <td>-4325.7</td>\n",
       "      <td>-557.8</td>\n",
       "    </tr>\n",
       "    <tr>\n",
       "      <th>25%</th>\n",
       "      <td>11.3</td>\n",
       "      <td>3.055600e+05</td>\n",
       "      <td>-10706.0</td>\n",
       "      <td>25497.0</td>\n",
       "      <td>89156.0</td>\n",
       "      <td>0.000000e+00</td>\n",
       "      <td>-46847.0</td>\n",
       "      <td>-0.0</td>\n",
       "      <td>-0.1</td>\n",
       "    </tr>\n",
       "    <tr>\n",
       "      <th>50%</th>\n",
       "      <td>26.7</td>\n",
       "      <td>1.209720e+06</td>\n",
       "      <td>46580.0</td>\n",
       "      <td>132676.0</td>\n",
       "      <td>382507.0</td>\n",
       "      <td>0.000000e+00</td>\n",
       "      <td>67487.0</td>\n",
       "      <td>0.0</td>\n",
       "      <td>0.1</td>\n",
       "    </tr>\n",
       "    <tr>\n",
       "      <th>75%</th>\n",
       "      <td>57.1</td>\n",
       "      <td>4.500668e+06</td>\n",
       "      <td>297000.0</td>\n",
       "      <td>473124.0</td>\n",
       "      <td>1337067.0</td>\n",
       "      <td>0.000000e+00</td>\n",
       "      <td>932161.0</td>\n",
       "      <td>0.1</td>\n",
       "      <td>0.2</td>\n",
       "    </tr>\n",
       "    <tr>\n",
       "      <th>max</th>\n",
       "      <td>18430140.0</td>\n",
       "      <td>4.142027e+09</td>\n",
       "      <td>76143000.0</td>\n",
       "      <td>175737135.0</td>\n",
       "      <td>194984700.0</td>\n",
       "      <td>9.762000e+09</td>\n",
       "      <td>171301000.0</td>\n",
       "      <td>37818.3</td>\n",
       "      <td>1158.3</td>\n",
       "    </tr>\n",
       "  </tbody>\n",
       "</table>\n",
       "</div>"
      ],
      "text/plain": [
       "            Price            MC        EBIT           WC          NFA  \\\n",
       "count   2236058.0  2.236058e+06   2236058.0    2236058.0    2236058.0   \n",
       "mean        357.8  1.023755e+07    564017.2     731129.1    2478355.4   \n",
       "std       58921.2  5.420661e+07   2926338.7    4872203.9    9920973.5   \n",
       "min           0.0  5.001000e+04 -48033955.0  -54172338.0  -13244000.0   \n",
       "25%          11.3  3.055600e+05    -10706.0      25497.0      89156.0   \n",
       "50%          26.7  1.209720e+06     46580.0     132676.0     382507.0   \n",
       "75%          57.1  4.500668e+06    297000.0     473124.0    1337067.0   \n",
       "max    18430140.0  4.142027e+09  76143000.0  175737135.0  194984700.0   \n",
       "\n",
       "                 PS           ND         EY        RoC  \n",
       "count  2.236058e+06    2236058.0  2236058.0  2236058.0  \n",
       "mean   1.557420e+07    1561687.3        0.0        0.2  \n",
       "std    1.974098e+08    7898592.2       28.3       16.0  \n",
       "min    0.000000e+00 -160870190.0    -4325.7     -557.8  \n",
       "25%    0.000000e+00     -46847.0       -0.0       -0.1  \n",
       "50%    0.000000e+00      67487.0        0.0        0.1  \n",
       "75%    0.000000e+00     932161.0        0.1        0.2  \n",
       "max    9.762000e+09  171301000.0    37818.3     1158.3  "
      ]
     },
     "execution_count": 9,
     "metadata": {},
     "output_type": "execute_result"
    }
   ],
   "source": [
    "df_new.describe().round(1)"
   ]
  },
  {
   "cell_type": "code",
   "execution_count": 10,
   "metadata": {},
   "outputs": [
    {
     "name": "stdout",
     "output_type": "stream",
     "text": [
      "This removes 53365 rows, which represents 2.3865660014185677% of the data\n"
     ]
    }
   ],
   "source": [
    "# Removing all the Earning Yield values higher than 0.2:\n",
    "\n",
    "print('This removes {} rows, which represents {}% of the data'.format(len(df_new) - len(df_new.loc[df_new['EY']<0.2]), (len(df_new) - len(df_new.loc[df_new['EY']<0.2]))/len(df_new)*100))\n",
    "\n",
    "df_new = df_new.loc[df_new['EY']<0.2]"
   ]
  },
  {
   "cell_type": "code",
   "execution_count": 11,
   "metadata": {},
   "outputs": [],
   "source": [
    "#Removing the top 2.4% of RoC\n",
    "df_new = df_new.loc[df_new['RoC'] < 1.5857]"
   ]
  },
  {
   "cell_type": "code",
   "execution_count": 12,
   "metadata": {},
   "outputs": [
    {
     "data": {
      "text/html": [
       "<div>\n",
       "<style scoped>\n",
       "    .dataframe tbody tr th:only-of-type {\n",
       "        vertical-align: middle;\n",
       "    }\n",
       "\n",
       "    .dataframe tbody tr th {\n",
       "        vertical-align: top;\n",
       "    }\n",
       "\n",
       "    .dataframe thead th {\n",
       "        text-align: right;\n",
       "    }\n",
       "</style>\n",
       "<table border=\"1\" class=\"dataframe\">\n",
       "  <thead>\n",
       "    <tr style=\"text-align: right;\">\n",
       "      <th></th>\n",
       "      <th>Price</th>\n",
       "      <th>MC</th>\n",
       "      <th>EBIT</th>\n",
       "      <th>WC</th>\n",
       "      <th>NFA</th>\n",
       "      <th>PS</th>\n",
       "      <th>ND</th>\n",
       "      <th>EY</th>\n",
       "      <th>RoC</th>\n",
       "    </tr>\n",
       "  </thead>\n",
       "  <tbody>\n",
       "    <tr>\n",
       "      <th>count</th>\n",
       "      <td>2131300.0</td>\n",
       "      <td>2.131300e+06</td>\n",
       "      <td>2131300.0</td>\n",
       "      <td>2131300.0</td>\n",
       "      <td>2131300.0</td>\n",
       "      <td>2.131300e+06</td>\n",
       "      <td>2131300.0</td>\n",
       "      <td>2131300.0</td>\n",
       "      <td>2131300.0</td>\n",
       "    </tr>\n",
       "    <tr>\n",
       "      <th>mean</th>\n",
       "      <td>371.8</td>\n",
       "      <td>1.043016e+07</td>\n",
       "      <td>559736.3</td>\n",
       "      <td>757480.6</td>\n",
       "      <td>2569972.2</td>\n",
       "      <td>1.606933e+07</td>\n",
       "      <td>1580779.1</td>\n",
       "      <td>-0.1</td>\n",
       "      <td>-0.3</td>\n",
       "    </tr>\n",
       "    <tr>\n",
       "      <th>std</th>\n",
       "      <td>60350.1</td>\n",
       "      <td>5.530771e+07</td>\n",
       "      <td>2957551.1</td>\n",
       "      <td>4973707.3</td>\n",
       "      <td>10136878.7</td>\n",
       "      <td>2.017803e+08</td>\n",
       "      <td>8014367.8</td>\n",
       "      <td>9.1</td>\n",
       "      <td>7.5</td>\n",
       "    </tr>\n",
       "    <tr>\n",
       "      <th>min</th>\n",
       "      <td>0.0</td>\n",
       "      <td>5.001000e+04</td>\n",
       "      <td>-48033955.0</td>\n",
       "      <td>-54172338.0</td>\n",
       "      <td>-13244000.0</td>\n",
       "      <td>0.000000e+00</td>\n",
       "      <td>-160870190.0</td>\n",
       "      <td>-4325.7</td>\n",
       "      <td>-557.8</td>\n",
       "    </tr>\n",
       "    <tr>\n",
       "      <th>25%</th>\n",
       "      <td>11.7</td>\n",
       "      <td>3.192900e+05</td>\n",
       "      <td>-10611.0</td>\n",
       "      <td>27727.0</td>\n",
       "      <td>97789.0</td>\n",
       "      <td>0.000000e+00</td>\n",
       "      <td>-46250.0</td>\n",
       "      <td>-0.0</td>\n",
       "      <td>-0.1</td>\n",
       "    </tr>\n",
       "    <tr>\n",
       "      <th>50%</th>\n",
       "      <td>27.2</td>\n",
       "      <td>1.272950e+06</td>\n",
       "      <td>45880.0</td>\n",
       "      <td>137486.0</td>\n",
       "      <td>404410.0</td>\n",
       "      <td>0.000000e+00</td>\n",
       "      <td>74107.0</td>\n",
       "      <td>0.0</td>\n",
       "      <td>0.1</td>\n",
       "    </tr>\n",
       "    <tr>\n",
       "      <th>75%</th>\n",
       "      <td>57.6</td>\n",
       "      <td>4.615372e+06</td>\n",
       "      <td>291000.0</td>\n",
       "      <td>484766.0</td>\n",
       "      <td>1400757.0</td>\n",
       "      <td>0.000000e+00</td>\n",
       "      <td>959400.0</td>\n",
       "      <td>0.1</td>\n",
       "      <td>0.2</td>\n",
       "    </tr>\n",
       "    <tr>\n",
       "      <th>max</th>\n",
       "      <td>18430140.0</td>\n",
       "      <td>4.142027e+09</td>\n",
       "      <td>76143000.0</td>\n",
       "      <td>175737135.0</td>\n",
       "      <td>194984700.0</td>\n",
       "      <td>9.762000e+09</td>\n",
       "      <td>171301000.0</td>\n",
       "      <td>0.2</td>\n",
       "      <td>1.6</td>\n",
       "    </tr>\n",
       "  </tbody>\n",
       "</table>\n",
       "</div>"
      ],
      "text/plain": [
       "            Price            MC        EBIT           WC          NFA  \\\n",
       "count   2131300.0  2.131300e+06   2131300.0    2131300.0    2131300.0   \n",
       "mean        371.8  1.043016e+07    559736.3     757480.6    2569972.2   \n",
       "std       60350.1  5.530771e+07   2957551.1    4973707.3   10136878.7   \n",
       "min           0.0  5.001000e+04 -48033955.0  -54172338.0  -13244000.0   \n",
       "25%          11.7  3.192900e+05    -10611.0      27727.0      97789.0   \n",
       "50%          27.2  1.272950e+06     45880.0     137486.0     404410.0   \n",
       "75%          57.6  4.615372e+06    291000.0     484766.0    1400757.0   \n",
       "max    18430140.0  4.142027e+09  76143000.0  175737135.0  194984700.0   \n",
       "\n",
       "                 PS           ND         EY        RoC  \n",
       "count  2.131300e+06    2131300.0  2131300.0  2131300.0  \n",
       "mean   1.606933e+07    1580779.1       -0.1       -0.3  \n",
       "std    2.017803e+08    8014367.8        9.1        7.5  \n",
       "min    0.000000e+00 -160870190.0    -4325.7     -557.8  \n",
       "25%    0.000000e+00     -46250.0       -0.0       -0.1  \n",
       "50%    0.000000e+00      74107.0        0.0        0.1  \n",
       "75%    0.000000e+00     959400.0        0.1        0.2  \n",
       "max    9.762000e+09  171301000.0        0.2        1.6  "
      ]
     },
     "execution_count": 12,
     "metadata": {},
     "output_type": "execute_result"
    }
   ],
   "source": [
    "#Final descriptive stats:\n",
    "df_new.describe().round(1)"
   ]
  },
  {
   "cell_type": "markdown",
   "metadata": {},
   "source": [
    "### 3. Rank the top performing stocks, per day"
   ]
  },
  {
   "cell_type": "code",
   "execution_count": 13,
   "metadata": {},
   "outputs": [],
   "source": [
    "#Sort the dataframe by date, then by firm\n",
    "df_new = df_new.sort_values(by = ['Date', 'Firm']).reset_index(drop = True)"
   ]
  },
  {
   "cell_type": "code",
   "execution_count": 14,
   "metadata": {},
   "outputs": [
    {
     "data": {
      "text/html": [
       "<div>\n",
       "<style scoped>\n",
       "    .dataframe tbody tr th:only-of-type {\n",
       "        vertical-align: middle;\n",
       "    }\n",
       "\n",
       "    .dataframe tbody tr th {\n",
       "        vertical-align: top;\n",
       "    }\n",
       "\n",
       "    .dataframe thead th {\n",
       "        text-align: right;\n",
       "    }\n",
       "</style>\n",
       "<table border=\"1\" class=\"dataframe\">\n",
       "  <thead>\n",
       "    <tr style=\"text-align: right;\">\n",
       "      <th></th>\n",
       "      <th>Unnamed: 0</th>\n",
       "      <th>Date</th>\n",
       "      <th>Firm</th>\n",
       "      <th>Price</th>\n",
       "      <th>MC</th>\n",
       "      <th>EBIT</th>\n",
       "      <th>WC</th>\n",
       "      <th>NFA</th>\n",
       "      <th>PS</th>\n",
       "      <th>ND</th>\n",
       "      <th>EY</th>\n",
       "      <th>RoC</th>\n",
       "    </tr>\n",
       "  </thead>\n",
       "  <tbody>\n",
       "    <tr>\n",
       "      <th>0</th>\n",
       "      <td>2015-11-27_0206.HK</td>\n",
       "      <td>2015-11-27</td>\n",
       "      <td>0206.HK</td>\n",
       "      <td>1.492</td>\n",
       "      <td>1088960.0</td>\n",
       "      <td>41376.0</td>\n",
       "      <td>921209.0</td>\n",
       "      <td>1406741.00</td>\n",
       "      <td>0.0</td>\n",
       "      <td>99747.0</td>\n",
       "      <td>0.034808</td>\n",
       "      <td>0.017774</td>\n",
       "    </tr>\n",
       "    <tr>\n",
       "      <th>1</th>\n",
       "      <td>2015-11-27_1316.HK</td>\n",
       "      <td>2015-11-27</td>\n",
       "      <td>1316.HK</td>\n",
       "      <td>8.370</td>\n",
       "      <td>20906630.0</td>\n",
       "      <td>2438567.0</td>\n",
       "      <td>4098460.0</td>\n",
       "      <td>6412636.00</td>\n",
       "      <td>0.0</td>\n",
       "      <td>1736155.0</td>\n",
       "      <td>0.107697</td>\n",
       "      <td>0.231999</td>\n",
       "    </tr>\n",
       "    <tr>\n",
       "      <th>2</th>\n",
       "      <td>2015-11-27_3665.TW</td>\n",
       "      <td>2015-11-27</td>\n",
       "      <td>3665.TW</td>\n",
       "      <td>130.340</td>\n",
       "      <td>12606880.0</td>\n",
       "      <td>981206.0</td>\n",
       "      <td>2973752.0</td>\n",
       "      <td>4386029.00</td>\n",
       "      <td>0.0</td>\n",
       "      <td>-858628.0</td>\n",
       "      <td>0.083519</td>\n",
       "      <td>0.133320</td>\n",
       "    </tr>\n",
       "    <tr>\n",
       "      <th>3</th>\n",
       "      <td>2015-11-27_4966.TWO</td>\n",
       "      <td>2015-11-27</td>\n",
       "      <td>4966.TWO</td>\n",
       "      <td>229.000</td>\n",
       "      <td>17416720.0</td>\n",
       "      <td>1238876.0</td>\n",
       "      <td>3238060.0</td>\n",
       "      <td>6461246.00</td>\n",
       "      <td>0.0</td>\n",
       "      <td>-2887751.0</td>\n",
       "      <td>0.085269</td>\n",
       "      <td>0.127728</td>\n",
       "    </tr>\n",
       "    <tr>\n",
       "      <th>4</th>\n",
       "      <td>2015-11-27_A</td>\n",
       "      <td>2015-11-27</td>\n",
       "      <td>A</td>\n",
       "      <td>41.970</td>\n",
       "      <td>13908980.0</td>\n",
       "      <td>626000.0</td>\n",
       "      <td>2690000.0</td>\n",
       "      <td>4243000.00</td>\n",
       "      <td>0.0</td>\n",
       "      <td>-386000.0</td>\n",
       "      <td>0.046292</td>\n",
       "      <td>0.090293</td>\n",
       "    </tr>\n",
       "    <tr>\n",
       "      <th>2131295</th>\n",
       "      <td>2020-05-29_WNDW.PK</td>\n",
       "      <td>2020-05-29</td>\n",
       "      <td>WNDW.PK</td>\n",
       "      <td>3.050</td>\n",
       "      <td>161530.0</td>\n",
       "      <td>-7353.0</td>\n",
       "      <td>14591.0</td>\n",
       "      <td>15967.13</td>\n",
       "      <td>0.0</td>\n",
       "      <td>-14152.0</td>\n",
       "      <td>-0.049892</td>\n",
       "      <td>-0.240623</td>\n",
       "    </tr>\n",
       "    <tr>\n",
       "      <th>2131296</th>\n",
       "      <td>2020-05-29_WOR.N</td>\n",
       "      <td>2020-05-29</td>\n",
       "      <td>WOR.N</td>\n",
       "      <td>29.920</td>\n",
       "      <td>1661970.0</td>\n",
       "      <td>27615.0</td>\n",
       "      <td>594941.0</td>\n",
       "      <td>820821.00</td>\n",
       "      <td>0.0</td>\n",
       "      <td>552467.0</td>\n",
       "      <td>0.012470</td>\n",
       "      <td>0.019505</td>\n",
       "    </tr>\n",
       "    <tr>\n",
       "      <th>2131297</th>\n",
       "      <td>2020-05-29_WRK.N</td>\n",
       "      <td>2020-05-29</td>\n",
       "      <td>WRK.N</td>\n",
       "      <td>28.060</td>\n",
       "      <td>7274700.0</td>\n",
       "      <td>-72900.0</td>\n",
       "      <td>2015800.0</td>\n",
       "      <td>10630600.00</td>\n",
       "      <td>0.0</td>\n",
       "      <td>9179500.0</td>\n",
       "      <td>-0.004430</td>\n",
       "      <td>-0.005764</td>\n",
       "    </tr>\n",
       "    <tr>\n",
       "      <th>2131298</th>\n",
       "      <td>2020-05-29_WWD.OQ</td>\n",
       "      <td>2020-05-29</td>\n",
       "      <td>WWD.OQ</td>\n",
       "      <td>68.580</td>\n",
       "      <td>4271820.0</td>\n",
       "      <td>302112.0</td>\n",
       "      <td>818533.0</td>\n",
       "      <td>1992677.00</td>\n",
       "      <td>0.0</td>\n",
       "      <td>685213.0</td>\n",
       "      <td>0.060946</td>\n",
       "      <td>0.107467</td>\n",
       "    </tr>\n",
       "    <tr>\n",
       "      <th>2131299</th>\n",
       "      <td>2020-05-29_ZS.OQ</td>\n",
       "      <td>2020-05-29</td>\n",
       "      <td>ZS.OQ</td>\n",
       "      <td>98.090</td>\n",
       "      <td>12802540.0</td>\n",
       "      <td>-107703.0</td>\n",
       "      <td>1157892.0</td>\n",
       "      <td>484829.00</td>\n",
       "      <td>0.0</td>\n",
       "      <td>-507501.0</td>\n",
       "      <td>-0.008760</td>\n",
       "      <td>-0.065564</td>\n",
       "    </tr>\n",
       "  </tbody>\n",
       "</table>\n",
       "</div>"
      ],
      "text/plain": [
       "                  Unnamed: 0       Date      Firm    Price          MC  \\\n",
       "0         2015-11-27_0206.HK 2015-11-27   0206.HK    1.492   1088960.0   \n",
       "1         2015-11-27_1316.HK 2015-11-27   1316.HK    8.370  20906630.0   \n",
       "2         2015-11-27_3665.TW 2015-11-27   3665.TW  130.340  12606880.0   \n",
       "3        2015-11-27_4966.TWO 2015-11-27  4966.TWO  229.000  17416720.0   \n",
       "4               2015-11-27_A 2015-11-27         A   41.970  13908980.0   \n",
       "2131295   2020-05-29_WNDW.PK 2020-05-29   WNDW.PK    3.050    161530.0   \n",
       "2131296     2020-05-29_WOR.N 2020-05-29     WOR.N   29.920   1661970.0   \n",
       "2131297     2020-05-29_WRK.N 2020-05-29     WRK.N   28.060   7274700.0   \n",
       "2131298    2020-05-29_WWD.OQ 2020-05-29    WWD.OQ   68.580   4271820.0   \n",
       "2131299     2020-05-29_ZS.OQ 2020-05-29     ZS.OQ   98.090  12802540.0   \n",
       "\n",
       "              EBIT         WC          NFA   PS         ND        EY       RoC  \n",
       "0          41376.0   921209.0   1406741.00  0.0    99747.0  0.034808  0.017774  \n",
       "1        2438567.0  4098460.0   6412636.00  0.0  1736155.0  0.107697  0.231999  \n",
       "2         981206.0  2973752.0   4386029.00  0.0  -858628.0  0.083519  0.133320  \n",
       "3        1238876.0  3238060.0   6461246.00  0.0 -2887751.0  0.085269  0.127728  \n",
       "4         626000.0  2690000.0   4243000.00  0.0  -386000.0  0.046292  0.090293  \n",
       "2131295    -7353.0    14591.0     15967.13  0.0   -14152.0 -0.049892 -0.240623  \n",
       "2131296    27615.0   594941.0    820821.00  0.0   552467.0  0.012470  0.019505  \n",
       "2131297   -72900.0  2015800.0  10630600.00  0.0  9179500.0 -0.004430 -0.005764  \n",
       "2131298   302112.0   818533.0   1992677.00  0.0   685213.0  0.060946  0.107467  \n",
       "2131299  -107703.0  1157892.0    484829.00  0.0  -507501.0 -0.008760 -0.065564  "
      ]
     },
     "execution_count": 14,
     "metadata": {},
     "output_type": "execute_result"
    }
   ],
   "source": [
    "pd.concat([df_new.head(), df_new.tail()])"
   ]
  },
  {
   "cell_type": "code",
   "execution_count": 15,
   "metadata": {},
   "outputs": [],
   "source": [
    "#Ranking the RoC per date:\n",
    "df_new['Rank_RoC'] = df_new.groupby('Date')['RoC'].rank(ascending = False)\n",
    "\n",
    "#Ranking the EY per date:\n",
    "df_new['Rank_EY'] = df_new.groupby('Date')['EY'].rank(ascending = False)"
   ]
  },
  {
   "cell_type": "code",
   "execution_count": 16,
   "metadata": {},
   "outputs": [
    {
     "data": {
      "text/html": [
       "<div>\n",
       "<style scoped>\n",
       "    .dataframe tbody tr th:only-of-type {\n",
       "        vertical-align: middle;\n",
       "    }\n",
       "\n",
       "    .dataframe tbody tr th {\n",
       "        vertical-align: top;\n",
       "    }\n",
       "\n",
       "    .dataframe thead th {\n",
       "        text-align: right;\n",
       "    }\n",
       "</style>\n",
       "<table border=\"1\" class=\"dataframe\">\n",
       "  <thead>\n",
       "    <tr style=\"text-align: right;\">\n",
       "      <th></th>\n",
       "      <th>Unnamed: 0</th>\n",
       "      <th>Date</th>\n",
       "      <th>Firm</th>\n",
       "      <th>Price</th>\n",
       "      <th>MC</th>\n",
       "      <th>EBIT</th>\n",
       "      <th>WC</th>\n",
       "      <th>NFA</th>\n",
       "      <th>PS</th>\n",
       "      <th>ND</th>\n",
       "      <th>EY</th>\n",
       "      <th>RoC</th>\n",
       "      <th>Rank_RoC</th>\n",
       "      <th>Rank_EY</th>\n",
       "    </tr>\n",
       "  </thead>\n",
       "  <tbody>\n",
       "    <tr>\n",
       "      <th>0</th>\n",
       "      <td>2015-11-27_0206.HK</td>\n",
       "      <td>2015-11-27</td>\n",
       "      <td>0206.HK</td>\n",
       "      <td>1.4920</td>\n",
       "      <td>1088960.0</td>\n",
       "      <td>41376.0</td>\n",
       "      <td>921209.0</td>\n",
       "      <td>1406741.0</td>\n",
       "      <td>0.0</td>\n",
       "      <td>99747.0</td>\n",
       "      <td>0.034808</td>\n",
       "      <td>0.017774</td>\n",
       "      <td>1128.0</td>\n",
       "      <td>966.0</td>\n",
       "    </tr>\n",
       "    <tr>\n",
       "      <th>1</th>\n",
       "      <td>2015-11-27_1316.HK</td>\n",
       "      <td>2015-11-27</td>\n",
       "      <td>1316.HK</td>\n",
       "      <td>8.3700</td>\n",
       "      <td>20906630.0</td>\n",
       "      <td>2438567.0</td>\n",
       "      <td>4098460.0</td>\n",
       "      <td>6412636.0</td>\n",
       "      <td>0.0</td>\n",
       "      <td>1736155.0</td>\n",
       "      <td>0.107697</td>\n",
       "      <td>0.231999</td>\n",
       "      <td>330.0</td>\n",
       "      <td>149.0</td>\n",
       "    </tr>\n",
       "    <tr>\n",
       "      <th>2</th>\n",
       "      <td>2015-11-27_3665.TW</td>\n",
       "      <td>2015-11-27</td>\n",
       "      <td>3665.TW</td>\n",
       "      <td>130.3400</td>\n",
       "      <td>12606880.0</td>\n",
       "      <td>981206.0</td>\n",
       "      <td>2973752.0</td>\n",
       "      <td>4386029.0</td>\n",
       "      <td>0.0</td>\n",
       "      <td>-858628.0</td>\n",
       "      <td>0.083519</td>\n",
       "      <td>0.133320</td>\n",
       "      <td>631.0</td>\n",
       "      <td>329.0</td>\n",
       "    </tr>\n",
       "    <tr>\n",
       "      <th>3</th>\n",
       "      <td>2015-11-27_4966.TWO</td>\n",
       "      <td>2015-11-27</td>\n",
       "      <td>4966.TWO</td>\n",
       "      <td>229.0000</td>\n",
       "      <td>17416720.0</td>\n",
       "      <td>1238876.0</td>\n",
       "      <td>3238060.0</td>\n",
       "      <td>6461246.0</td>\n",
       "      <td>0.0</td>\n",
       "      <td>-2887751.0</td>\n",
       "      <td>0.085269</td>\n",
       "      <td>0.127728</td>\n",
       "      <td>658.0</td>\n",
       "      <td>311.0</td>\n",
       "    </tr>\n",
       "    <tr>\n",
       "      <th>4</th>\n",
       "      <td>2015-11-27_A</td>\n",
       "      <td>2015-11-27</td>\n",
       "      <td>A</td>\n",
       "      <td>41.9700</td>\n",
       "      <td>13908980.0</td>\n",
       "      <td>626000.0</td>\n",
       "      <td>2690000.0</td>\n",
       "      <td>4243000.0</td>\n",
       "      <td>0.0</td>\n",
       "      <td>-386000.0</td>\n",
       "      <td>0.046292</td>\n",
       "      <td>0.090293</td>\n",
       "      <td>839.5</td>\n",
       "      <td>840.5</td>\n",
       "    </tr>\n",
       "    <tr>\n",
       "      <th>5</th>\n",
       "      <td>2015-11-27_A.N</td>\n",
       "      <td>2015-11-27</td>\n",
       "      <td>A.N</td>\n",
       "      <td>41.9700</td>\n",
       "      <td>13908980.0</td>\n",
       "      <td>626000.0</td>\n",
       "      <td>2690000.0</td>\n",
       "      <td>4243000.0</td>\n",
       "      <td>0.0</td>\n",
       "      <td>-386000.0</td>\n",
       "      <td>0.046292</td>\n",
       "      <td>0.090293</td>\n",
       "      <td>839.5</td>\n",
       "      <td>840.5</td>\n",
       "    </tr>\n",
       "    <tr>\n",
       "      <th>6</th>\n",
       "      <td>2015-11-27_AAOI.OQ</td>\n",
       "      <td>2015-11-27</td>\n",
       "      <td>AAOI.OQ</td>\n",
       "      <td>18.5600</td>\n",
       "      <td>312460.0</td>\n",
       "      <td>12186.0</td>\n",
       "      <td>79848.0</td>\n",
       "      <td>165398.0</td>\n",
       "      <td>0.0</td>\n",
       "      <td>27224.0</td>\n",
       "      <td>0.035875</td>\n",
       "      <td>0.049689</td>\n",
       "      <td>1030.0</td>\n",
       "      <td>954.0</td>\n",
       "    </tr>\n",
       "    <tr>\n",
       "      <th>7</th>\n",
       "      <td>2015-11-27_AAON.OQ</td>\n",
       "      <td>2015-11-27</td>\n",
       "      <td>AAON.OQ</td>\n",
       "      <td>25.1500</td>\n",
       "      <td>1360430.0</td>\n",
       "      <td>71339.0</td>\n",
       "      <td>80800.0</td>\n",
       "      <td>178918.0</td>\n",
       "      <td>0.0</td>\n",
       "      <td>-30432.0</td>\n",
       "      <td>0.053638</td>\n",
       "      <td>0.274679</td>\n",
       "      <td>265.0</td>\n",
       "      <td>740.0</td>\n",
       "    </tr>\n",
       "    <tr>\n",
       "      <th>8</th>\n",
       "      <td>2015-11-27_AAP.N</td>\n",
       "      <td>2015-11-27</td>\n",
       "      <td>AAP.N</td>\n",
       "      <td>164.8400</td>\n",
       "      <td>12072310.0</td>\n",
       "      <td>818296.0</td>\n",
       "      <td>1143269.0</td>\n",
       "      <td>2460648.0</td>\n",
       "      <td>0.0</td>\n",
       "      <td>1122977.0</td>\n",
       "      <td>0.062014</td>\n",
       "      <td>0.227057</td>\n",
       "      <td>339.0</td>\n",
       "      <td>622.0</td>\n",
       "    </tr>\n",
       "    <tr>\n",
       "      <th>9</th>\n",
       "      <td>2015-11-27_AAPL.OQ</td>\n",
       "      <td>2015-11-27</td>\n",
       "      <td>AAPL.OQ</td>\n",
       "      <td>29.4525</td>\n",
       "      <td>656829500.0</td>\n",
       "      <td>62828000.0</td>\n",
       "      <td>27863000.0</td>\n",
       "      <td>128249000.0</td>\n",
       "      <td>0.0</td>\n",
       "      <td>18478000.0</td>\n",
       "      <td>0.093036</td>\n",
       "      <td>0.402455</td>\n",
       "      <td>140.0</td>\n",
       "      <td>244.0</td>\n",
       "    </tr>\n",
       "  </tbody>\n",
       "</table>\n",
       "</div>"
      ],
      "text/plain": [
       "            Unnamed: 0       Date      Firm     Price           MC  \\\n",
       "0   2015-11-27_0206.HK 2015-11-27   0206.HK    1.4920    1088960.0   \n",
       "1   2015-11-27_1316.HK 2015-11-27   1316.HK    8.3700   20906630.0   \n",
       "2   2015-11-27_3665.TW 2015-11-27   3665.TW  130.3400   12606880.0   \n",
       "3  2015-11-27_4966.TWO 2015-11-27  4966.TWO  229.0000   17416720.0   \n",
       "4         2015-11-27_A 2015-11-27         A   41.9700   13908980.0   \n",
       "5       2015-11-27_A.N 2015-11-27       A.N   41.9700   13908980.0   \n",
       "6   2015-11-27_AAOI.OQ 2015-11-27   AAOI.OQ   18.5600     312460.0   \n",
       "7   2015-11-27_AAON.OQ 2015-11-27   AAON.OQ   25.1500    1360430.0   \n",
       "8     2015-11-27_AAP.N 2015-11-27     AAP.N  164.8400   12072310.0   \n",
       "9   2015-11-27_AAPL.OQ 2015-11-27   AAPL.OQ   29.4525  656829500.0   \n",
       "\n",
       "         EBIT          WC          NFA   PS          ND        EY       RoC  \\\n",
       "0     41376.0    921209.0    1406741.0  0.0     99747.0  0.034808  0.017774   \n",
       "1   2438567.0   4098460.0    6412636.0  0.0   1736155.0  0.107697  0.231999   \n",
       "2    981206.0   2973752.0    4386029.0  0.0   -858628.0  0.083519  0.133320   \n",
       "3   1238876.0   3238060.0    6461246.0  0.0  -2887751.0  0.085269  0.127728   \n",
       "4    626000.0   2690000.0    4243000.0  0.0   -386000.0  0.046292  0.090293   \n",
       "5    626000.0   2690000.0    4243000.0  0.0   -386000.0  0.046292  0.090293   \n",
       "6     12186.0     79848.0     165398.0  0.0     27224.0  0.035875  0.049689   \n",
       "7     71339.0     80800.0     178918.0  0.0    -30432.0  0.053638  0.274679   \n",
       "8    818296.0   1143269.0    2460648.0  0.0   1122977.0  0.062014  0.227057   \n",
       "9  62828000.0  27863000.0  128249000.0  0.0  18478000.0  0.093036  0.402455   \n",
       "\n",
       "   Rank_RoC  Rank_EY  \n",
       "0    1128.0    966.0  \n",
       "1     330.0    149.0  \n",
       "2     631.0    329.0  \n",
       "3     658.0    311.0  \n",
       "4     839.5    840.5  \n",
       "5     839.5    840.5  \n",
       "6    1030.0    954.0  \n",
       "7     265.0    740.0  \n",
       "8     339.0    622.0  \n",
       "9     140.0    244.0  "
      ]
     },
     "execution_count": 16,
     "metadata": {},
     "output_type": "execute_result"
    }
   ],
   "source": [
    "df_new.head(10)"
   ]
  },
  {
   "cell_type": "code",
   "execution_count": 17,
   "metadata": {},
   "outputs": [],
   "source": [
    "#Create a column to sum the rankings:\n",
    "df_new['Final_Rating'] = df_new['Rank_RoC'] + df_new['Rank_EY']\n",
    "\n",
    "#Turn the final rating to a final ranking:\n",
    "df_new['Final_Ranking'] = df_new.groupby('Date')['Final_Rating'].rank()"
   ]
  },
  {
   "cell_type": "markdown",
   "metadata": {},
   "source": [
    "### 4. Get the top 50 best stocks, per day"
   ]
  },
  {
   "cell_type": "code",
   "execution_count": 18,
   "metadata": {},
   "outputs": [],
   "source": [
    "#First, sort the values by date, then by final ranking\n",
    "df_new = df_new.sort_values(['Date','Final_Ranking']).reset_index(drop = True)"
   ]
  },
  {
   "cell_type": "code",
   "execution_count": 19,
   "metadata": {},
   "outputs": [
    {
     "name": "stderr",
     "output_type": "stream",
     "text": [
      "C:\\Users\\jlbgo\\Anaconda3\\lib\\site-packages\\ipykernel_launcher.py:2: FutureWarning: Indexing with multiple keys (implicitly converted to a tuple of keys) will be deprecated, use a list instead.\n",
      "  \n"
     ]
    }
   ],
   "source": [
    "#Create a dataframe including the top 50 firms per date only\n",
    "top50 = df_new.groupby('Date')['Date', 'Firm','Price','RoC', 'EY','Final_Ranking'].head(50)"
   ]
  },
  {
   "cell_type": "code",
   "execution_count": 20,
   "metadata": {},
   "outputs": [],
   "source": [
    "#Now, a dataframe with one row per date, with the list of top 50 firms of the day:\n",
    "top_50_daily = pd.DataFrame(index = df_new['Date'].unique(), columns = ['top_50', 'top_50_trailing_week'])\n",
    "\n",
    "#inserting top 50 per day:\n",
    "for date in top_50_daily.index:\n",
    "    top_50_daily.loc[date, 'top_50'] = [*top50.loc[top50['Date'] == date, 'Firm']]\n",
    "    \n",
    "#inserting the list of firms that were top 50 during the week (rolling winsow):\n",
    "for date in top_50_daily.index[5:]:\n",
    "    top_week = top_50_daily.loc[date + relativedelta(days = -7): date + relativedelta(days = -1), 'top_50']\n",
    "    #get the list of the trailing week, with no duplicates:\n",
    "    top_50_daily.loc[date, 'top_50_trailing_week'] = [*set([*top_week.apply(pd.Series).stack().reset_index()[0]])]"
   ]
  },
  {
   "cell_type": "markdown",
   "metadata": {},
   "source": [
    "### 5. Check for bronze: are there any new stocks on the week (trailing)?"
   ]
  },
  {
   "cell_type": "code",
   "execution_count": 21,
   "metadata": {},
   "outputs": [
    {
     "data": {
      "text/html": [
       "<div>\n",
       "<style scoped>\n",
       "    .dataframe tbody tr th:only-of-type {\n",
       "        vertical-align: middle;\n",
       "    }\n",
       "\n",
       "    .dataframe tbody tr th {\n",
       "        vertical-align: top;\n",
       "    }\n",
       "\n",
       "    .dataframe thead th {\n",
       "        text-align: right;\n",
       "    }\n",
       "</style>\n",
       "<table border=\"1\" class=\"dataframe\">\n",
       "  <thead>\n",
       "    <tr style=\"text-align: right;\">\n",
       "      <th></th>\n",
       "      <th>top_50</th>\n",
       "      <th>top_50_trailing_week</th>\n",
       "    </tr>\n",
       "  </thead>\n",
       "  <tbody>\n",
       "    <tr>\n",
       "      <th>2015-11-27</th>\n",
       "      <td>[UAL.OQ, CCR.N, BBSI.OQ, HA.OQ, MVO.N, GILD.OQ...</td>\n",
       "      <td>NaN</td>\n",
       "    </tr>\n",
       "    <tr>\n",
       "      <th>2015-11-30</th>\n",
       "      <td>[UAL.OQ, CCR.N, HA.OQ, BBSI.OQ, MVO.N, GILD.OQ...</td>\n",
       "      <td>NaN</td>\n",
       "    </tr>\n",
       "    <tr>\n",
       "      <th>2015-12-01</th>\n",
       "      <td>[UAL.OQ, CCR.N, BBSI.OQ, HA.OQ, GILD.OQ, SRLP....</td>\n",
       "      <td>NaN</td>\n",
       "    </tr>\n",
       "    <tr>\n",
       "      <th>2015-12-02</th>\n",
       "      <td>[UAL.OQ, CCR.N, BBSI.OQ, HA.OQ, GILD.OQ, PPC.O...</td>\n",
       "      <td>NaN</td>\n",
       "    </tr>\n",
       "    <tr>\n",
       "      <th>2015-12-03</th>\n",
       "      <td>[UAL.OQ, CCR.N, BBSI.OQ, HA.OQ, GILD.OQ, SRLP....</td>\n",
       "      <td>NaN</td>\n",
       "    </tr>\n",
       "    <tr>\n",
       "      <th>2015-12-04</th>\n",
       "      <td>[UAL.OQ, CCR.N, BBSI.OQ, HA.OQ, GILD.OQ, SRLP....</td>\n",
       "      <td>[CNC.N, H.N, MVO.N, STRA.OQ, TEN.N, CCR.N, LFV...</td>\n",
       "    </tr>\n",
       "    <tr>\n",
       "      <th>2015-12-07</th>\n",
       "      <td>[UAL.OQ, BBSI.OQ, HA.OQ, GILD.OQ, SRLP.N, PPC....</td>\n",
       "      <td>[CNC.N, H.N, MVO.N, STRA.OQ, TEN.N, CCR.N, MMI...</td>\n",
       "    </tr>\n",
       "  </tbody>\n",
       "</table>\n",
       "</div>"
      ],
      "text/plain": [
       "                                                       top_50  \\\n",
       "2015-11-27  [UAL.OQ, CCR.N, BBSI.OQ, HA.OQ, MVO.N, GILD.OQ...   \n",
       "2015-11-30  [UAL.OQ, CCR.N, HA.OQ, BBSI.OQ, MVO.N, GILD.OQ...   \n",
       "2015-12-01  [UAL.OQ, CCR.N, BBSI.OQ, HA.OQ, GILD.OQ, SRLP....   \n",
       "2015-12-02  [UAL.OQ, CCR.N, BBSI.OQ, HA.OQ, GILD.OQ, PPC.O...   \n",
       "2015-12-03  [UAL.OQ, CCR.N, BBSI.OQ, HA.OQ, GILD.OQ, SRLP....   \n",
       "2015-12-04  [UAL.OQ, CCR.N, BBSI.OQ, HA.OQ, GILD.OQ, SRLP....   \n",
       "2015-12-07  [UAL.OQ, BBSI.OQ, HA.OQ, GILD.OQ, SRLP.N, PPC....   \n",
       "\n",
       "                                         top_50_trailing_week  \n",
       "2015-11-27                                                NaN  \n",
       "2015-11-30                                                NaN  \n",
       "2015-12-01                                                NaN  \n",
       "2015-12-02                                                NaN  \n",
       "2015-12-03                                                NaN  \n",
       "2015-12-04  [CNC.N, H.N, MVO.N, STRA.OQ, TEN.N, CCR.N, LFV...  \n",
       "2015-12-07  [CNC.N, H.N, MVO.N, STRA.OQ, TEN.N, CCR.N, MMI...  "
      ]
     },
     "execution_count": 21,
     "metadata": {},
     "output_type": "execute_result"
    }
   ],
   "source": [
    "top_50_daily.head(7)"
   ]
  },
  {
   "cell_type": "code",
   "execution_count": 22,
   "metadata": {},
   "outputs": [
    {
     "data": {
      "text/plain": [
       "['PII.N']"
      ]
     },
     "execution_count": 22,
     "metadata": {},
     "output_type": "execute_result"
    }
   ],
   "source": [
    "[*set(top_50_daily.loc['2015-12-04', 'top_50']).difference(top_50_daily.loc['2015-12-04', 'top_50_trailing_week'])]"
   ]
  },
  {
   "cell_type": "code",
   "execution_count": 23,
   "metadata": {},
   "outputs": [],
   "source": [
    "top_50_daily['bronze'] = np.nan\n",
    "\n",
    "for date in top_50_daily.index[5:]:\n",
    "    top_50_daily.loc[date, 'bronze'] = [*set(top_50_daily.loc[date, 'top_50']).difference(top_50_daily.loc[date, 'top_50_trailing_week'])]\n",
    "    \n",
    "#for whatever reason, the first element was not inserted as a list, so let's do it manually:\n",
    "top_50_daily.iloc[5, 2] = [*set(top_50_daily.iloc[5, 0]).difference(top_50_daily.iloc[5, 1])]"
   ]
  },
  {
   "cell_type": "code",
   "execution_count": 24,
   "metadata": {},
   "outputs": [
    {
     "data": {
      "text/html": [
       "<div>\n",
       "<style scoped>\n",
       "    .dataframe tbody tr th:only-of-type {\n",
       "        vertical-align: middle;\n",
       "    }\n",
       "\n",
       "    .dataframe tbody tr th {\n",
       "        vertical-align: top;\n",
       "    }\n",
       "\n",
       "    .dataframe thead th {\n",
       "        text-align: right;\n",
       "    }\n",
       "</style>\n",
       "<table border=\"1\" class=\"dataframe\">\n",
       "  <thead>\n",
       "    <tr style=\"text-align: right;\">\n",
       "      <th></th>\n",
       "      <th>top_50</th>\n",
       "      <th>top_50_trailing_week</th>\n",
       "      <th>bronze</th>\n",
       "    </tr>\n",
       "  </thead>\n",
       "  <tbody>\n",
       "    <tr>\n",
       "      <th>2015-11-27</th>\n",
       "      <td>[UAL.OQ, CCR.N, BBSI.OQ, HA.OQ, MVO.N, GILD.OQ...</td>\n",
       "      <td>NaN</td>\n",
       "      <td>NaN</td>\n",
       "    </tr>\n",
       "    <tr>\n",
       "      <th>2015-11-30</th>\n",
       "      <td>[UAL.OQ, CCR.N, HA.OQ, BBSI.OQ, MVO.N, GILD.OQ...</td>\n",
       "      <td>NaN</td>\n",
       "      <td>NaN</td>\n",
       "    </tr>\n",
       "    <tr>\n",
       "      <th>2015-12-01</th>\n",
       "      <td>[UAL.OQ, CCR.N, BBSI.OQ, HA.OQ, GILD.OQ, SRLP....</td>\n",
       "      <td>NaN</td>\n",
       "      <td>NaN</td>\n",
       "    </tr>\n",
       "    <tr>\n",
       "      <th>2015-12-02</th>\n",
       "      <td>[UAL.OQ, CCR.N, BBSI.OQ, HA.OQ, GILD.OQ, PPC.O...</td>\n",
       "      <td>NaN</td>\n",
       "      <td>NaN</td>\n",
       "    </tr>\n",
       "    <tr>\n",
       "      <th>2015-12-03</th>\n",
       "      <td>[UAL.OQ, CCR.N, BBSI.OQ, HA.OQ, GILD.OQ, SRLP....</td>\n",
       "      <td>NaN</td>\n",
       "      <td>NaN</td>\n",
       "    </tr>\n",
       "    <tr>\n",
       "      <th>2015-12-04</th>\n",
       "      <td>[UAL.OQ, CCR.N, BBSI.OQ, HA.OQ, GILD.OQ, SRLP....</td>\n",
       "      <td>[CNC.N, H.N, MVO.N, STRA.OQ, TEN.N, CCR.N, LFV...</td>\n",
       "      <td>[PII.N]</td>\n",
       "    </tr>\n",
       "    <tr>\n",
       "      <th>2015-12-07</th>\n",
       "      <td>[UAL.OQ, BBSI.OQ, HA.OQ, GILD.OQ, SRLP.N, PPC....</td>\n",
       "      <td>[CNC.N, H.N, MVO.N, STRA.OQ, TEN.N, CCR.N, MMI...</td>\n",
       "      <td>[CVLG.OQ]</td>\n",
       "    </tr>\n",
       "    <tr>\n",
       "      <th>2015-12-08</th>\n",
       "      <td>[UAL.OQ, BBSI.OQ, HA.OQ, SRLP.N, GILD.OQ, PPC....</td>\n",
       "      <td>[CNC.N, H.N, STRA.OQ, TEN.N, CCR.N, LFVN.OQ, M...</td>\n",
       "      <td>[UNP.N]</td>\n",
       "    </tr>\n",
       "  </tbody>\n",
       "</table>\n",
       "</div>"
      ],
      "text/plain": [
       "                                                       top_50  \\\n",
       "2015-11-27  [UAL.OQ, CCR.N, BBSI.OQ, HA.OQ, MVO.N, GILD.OQ...   \n",
       "2015-11-30  [UAL.OQ, CCR.N, HA.OQ, BBSI.OQ, MVO.N, GILD.OQ...   \n",
       "2015-12-01  [UAL.OQ, CCR.N, BBSI.OQ, HA.OQ, GILD.OQ, SRLP....   \n",
       "2015-12-02  [UAL.OQ, CCR.N, BBSI.OQ, HA.OQ, GILD.OQ, PPC.O...   \n",
       "2015-12-03  [UAL.OQ, CCR.N, BBSI.OQ, HA.OQ, GILD.OQ, SRLP....   \n",
       "2015-12-04  [UAL.OQ, CCR.N, BBSI.OQ, HA.OQ, GILD.OQ, SRLP....   \n",
       "2015-12-07  [UAL.OQ, BBSI.OQ, HA.OQ, GILD.OQ, SRLP.N, PPC....   \n",
       "2015-12-08  [UAL.OQ, BBSI.OQ, HA.OQ, SRLP.N, GILD.OQ, PPC....   \n",
       "\n",
       "                                         top_50_trailing_week     bronze  \n",
       "2015-11-27                                                NaN        NaN  \n",
       "2015-11-30                                                NaN        NaN  \n",
       "2015-12-01                                                NaN        NaN  \n",
       "2015-12-02                                                NaN        NaN  \n",
       "2015-12-03                                                NaN        NaN  \n",
       "2015-12-04  [CNC.N, H.N, MVO.N, STRA.OQ, TEN.N, CCR.N, LFV...    [PII.N]  \n",
       "2015-12-07  [CNC.N, H.N, MVO.N, STRA.OQ, TEN.N, CCR.N, MMI...  [CVLG.OQ]  \n",
       "2015-12-08  [CNC.N, H.N, STRA.OQ, TEN.N, CCR.N, LFVN.OQ, M...    [UNP.N]  "
      ]
     },
     "execution_count": 24,
     "metadata": {},
     "output_type": "execute_result"
    }
   ],
   "source": [
    "top_50_daily.head(8)"
   ]
  },
  {
   "cell_type": "markdown",
   "metadata": {},
   "source": [
    "### 6. Backtesting the Prestige Bronze Strategy"
   ]
  },
  {
   "cell_type": "markdown",
   "metadata": {},
   "source": [
    "#### How frequently 'bronze' stocks appear, on a daily basis?"
   ]
  },
  {
   "cell_type": "code",
   "execution_count": 25,
   "metadata": {},
   "outputs": [
    {
     "name": "stderr",
     "output_type": "stream",
     "text": [
      "\n",
      "Bad key \"text.kerning_factor\" on line 4 in\n",
      "C:\\Users\\jlbgo\\Anaconda3\\lib\\site-packages\\matplotlib\\mpl-data\\stylelib\\_classic_test_patch.mplstyle.\n",
      "You probably need to get an updated matplotlibrc file from\n",
      "http://github.com/matplotlib/matplotlib/blob/master/matplotlibrc.template\n",
      "or from the matplotlib source distribution\n"
     ]
    },
    {
     "data": {
      "text/plain": [
       "<matplotlib.axes._subplots.AxesSubplot at 0x1d68296ec08>"
      ]
     },
     "execution_count": 25,
     "metadata": {},
     "output_type": "execute_result"
    },
    {
     "data": {
      "image/png": "[encoded data removed]",
      "text/plain": [
       "<Figure size 432x288 with 1 Axes>"
      ]
     },
     "metadata": {
      "needs_background": "light"
     },
     "output_type": "display_data"
    }
   ],
   "source": [
    "top_50_daily.loc['2015-12-04':,'bronze'].apply(len).plot()"
   ]
  },
  {
   "cell_type": "code",
   "execution_count": 26,
   "metadata": {},
   "outputs": [
    {
     "data": {
      "text/plain": [
       "count    1171.000000\n",
       "mean        0.727583\n",
       "std         1.852718\n",
       "min         0.000000\n",
       "25%         0.000000\n",
       "50%         0.000000\n",
       "75%         1.000000\n",
       "max        38.000000\n",
       "Name: bronze, dtype: float64"
      ]
     },
     "execution_count": 26,
     "metadata": {},
     "output_type": "execute_result"
    }
   ],
   "source": [
    "top_50_daily.loc['2015-12-04':,'bronze'].apply(len).describe()"
   ]
  },
  {
   "cell_type": "code",
   "execution_count": 27,
   "metadata": {},
   "outputs": [
    {
     "data": {
      "text/plain": [
       "2020-01-01    38\n",
       "2018-01-01    25\n",
       "2019-01-01    24\n",
       "2017-01-02    19\n",
       "2016-01-01    18\n",
       "2020-02-03    14\n",
       "Name: bronze, dtype: int64"
      ]
     },
     "execution_count": 27,
     "metadata": {},
     "output_type": "execute_result"
    }
   ],
   "source": [
    "top_50_daily.loc['2015-12-04':,'bronze'].apply(len).nlargest(6)"
   ]
  },
  {
   "cell_type": "markdown",
   "metadata": {},
   "source": [
    "__A first obvious remark__: on the first trading day of each year, there are several new stocks appearing. I do not want to include these for the backtesting, so I'll remove them. Also, in the start of April, there was an abnormal amount of new stocks (due to the crisis). I'll remove these as well."
   ]
  },
  {
   "cell_type": "code",
   "execution_count": 28,
   "metadata": {},
   "outputs": [],
   "source": [
    "#removing these 4 dates, with abnormal values:\n",
    "dates_remove = top_50_daily.loc['2015-12-04':,'bronze'].apply(len).nlargest(6).index\n",
    "top_50_daily = top_50_daily.loc[~top_50_daily.index.isin(dates_remove)]"
   ]
  },
  {
   "cell_type": "code",
   "execution_count": 29,
   "metadata": {},
   "outputs": [
    {
     "data": {
      "text/plain": [
       "<matplotlib.axes._subplots.AxesSubplot at 0x1d682b7c708>"
      ]
     },
     "execution_count": 29,
     "metadata": {},
     "output_type": "execute_result"
    },
    {
     "data": {
      "image/png": "[encoded data removed]",
      "text/plain": [
       "<Figure size 432x288 with 1 Axes>"
      ]
     },
     "metadata": {
      "needs_background": "light"
     },
     "output_type": "display_data"
    }
   ],
   "source": [
    "#plotting again\n",
    "top_50_daily.loc['2015-12-04':,'bronze'].apply(len).plot()"
   ]
  },
  {
   "cell_type": "code",
   "execution_count": 30,
   "metadata": {},
   "outputs": [
    {
     "data": {
      "text/plain": [
       "count    1165.000000\n",
       "mean        0.612876\n",
       "std         0.760045\n",
       "min         0.000000\n",
       "25%         0.000000\n",
       "50%         0.000000\n",
       "75%         1.000000\n",
       "max         5.000000\n",
       "Name: bronze, dtype: float64"
      ]
     },
     "execution_count": 30,
     "metadata": {},
     "output_type": "execute_result"
    }
   ],
   "source": [
    "top_50_daily.loc['2015-12-04':,'bronze'].apply(len).describe()"
   ]
  },
  {
   "cell_type": "markdown",
   "metadata": {},
   "source": [
    "#### Getting the daily returns of the stocks we are long on - we keep them for one week"
   ]
  },
  {
   "cell_type": "code",
   "execution_count": 31,
   "metadata": {},
   "outputs": [
    {
     "data": {
      "text/html": [
       "<div>\n",
       "<style scoped>\n",
       "    .dataframe tbody tr th:only-of-type {\n",
       "        vertical-align: middle;\n",
       "    }\n",
       "\n",
       "    .dataframe tbody tr th {\n",
       "        vertical-align: top;\n",
       "    }\n",
       "\n",
       "    .dataframe thead th {\n",
       "        text-align: right;\n",
       "    }\n",
       "</style>\n",
       "<table border=\"1\" class=\"dataframe\">\n",
       "  <thead>\n",
       "    <tr style=\"text-align: right;\">\n",
       "      <th></th>\n",
       "      <th>top_50</th>\n",
       "      <th>top_50_trailing_week</th>\n",
       "      <th>bronze</th>\n",
       "    </tr>\n",
       "  </thead>\n",
       "  <tbody>\n",
       "    <tr>\n",
       "      <th>2015-11-27</th>\n",
       "      <td>[UAL.OQ, CCR.N, BBSI.OQ, HA.OQ, MVO.N, GILD.OQ...</td>\n",
       "      <td>NaN</td>\n",
       "      <td>NaN</td>\n",
       "    </tr>\n",
       "    <tr>\n",
       "      <th>2015-11-30</th>\n",
       "      <td>[UAL.OQ, CCR.N, HA.OQ, BBSI.OQ, MVO.N, GILD.OQ...</td>\n",
       "      <td>NaN</td>\n",
       "      <td>NaN</td>\n",
       "    </tr>\n",
       "    <tr>\n",
       "      <th>2015-12-01</th>\n",
       "      <td>[UAL.OQ, CCR.N, BBSI.OQ, HA.OQ, GILD.OQ, SRLP....</td>\n",
       "      <td>NaN</td>\n",
       "      <td>NaN</td>\n",
       "    </tr>\n",
       "    <tr>\n",
       "      <th>2015-12-02</th>\n",
       "      <td>[UAL.OQ, CCR.N, BBSI.OQ, HA.OQ, GILD.OQ, PPC.O...</td>\n",
       "      <td>NaN</td>\n",
       "      <td>NaN</td>\n",
       "    </tr>\n",
       "    <tr>\n",
       "      <th>2015-12-03</th>\n",
       "      <td>[UAL.OQ, CCR.N, BBSI.OQ, HA.OQ, GILD.OQ, SRLP....</td>\n",
       "      <td>NaN</td>\n",
       "      <td>NaN</td>\n",
       "    </tr>\n",
       "    <tr>\n",
       "      <th>2015-12-04</th>\n",
       "      <td>[UAL.OQ, CCR.N, BBSI.OQ, HA.OQ, GILD.OQ, SRLP....</td>\n",
       "      <td>[CNC.N, H.N, MVO.N, STRA.OQ, TEN.N, CCR.N, LFV...</td>\n",
       "      <td>[PII.N]</td>\n",
       "    </tr>\n",
       "    <tr>\n",
       "      <th>2015-12-07</th>\n",
       "      <td>[UAL.OQ, BBSI.OQ, HA.OQ, GILD.OQ, SRLP.N, PPC....</td>\n",
       "      <td>[CNC.N, H.N, MVO.N, STRA.OQ, TEN.N, CCR.N, MMI...</td>\n",
       "      <td>[CVLG.OQ]</td>\n",
       "    </tr>\n",
       "    <tr>\n",
       "      <th>2015-12-08</th>\n",
       "      <td>[UAL.OQ, BBSI.OQ, HA.OQ, SRLP.N, GILD.OQ, PPC....</td>\n",
       "      <td>[CNC.N, H.N, STRA.OQ, TEN.N, CCR.N, LFVN.OQ, M...</td>\n",
       "      <td>[UNP.N]</td>\n",
       "    </tr>\n",
       "  </tbody>\n",
       "</table>\n",
       "</div>"
      ],
      "text/plain": [
       "                                                       top_50  \\\n",
       "2015-11-27  [UAL.OQ, CCR.N, BBSI.OQ, HA.OQ, MVO.N, GILD.OQ...   \n",
       "2015-11-30  [UAL.OQ, CCR.N, HA.OQ, BBSI.OQ, MVO.N, GILD.OQ...   \n",
       "2015-12-01  [UAL.OQ, CCR.N, BBSI.OQ, HA.OQ, GILD.OQ, SRLP....   \n",
       "2015-12-02  [UAL.OQ, CCR.N, BBSI.OQ, HA.OQ, GILD.OQ, PPC.O...   \n",
       "2015-12-03  [UAL.OQ, CCR.N, BBSI.OQ, HA.OQ, GILD.OQ, SRLP....   \n",
       "2015-12-04  [UAL.OQ, CCR.N, BBSI.OQ, HA.OQ, GILD.OQ, SRLP....   \n",
       "2015-12-07  [UAL.OQ, BBSI.OQ, HA.OQ, GILD.OQ, SRLP.N, PPC....   \n",
       "2015-12-08  [UAL.OQ, BBSI.OQ, HA.OQ, SRLP.N, GILD.OQ, PPC....   \n",
       "\n",
       "                                         top_50_trailing_week     bronze  \n",
       "2015-11-27                                                NaN        NaN  \n",
       "2015-11-30                                                NaN        NaN  \n",
       "2015-12-01                                                NaN        NaN  \n",
       "2015-12-02                                                NaN        NaN  \n",
       "2015-12-03                                                NaN        NaN  \n",
       "2015-12-04  [CNC.N, H.N, MVO.N, STRA.OQ, TEN.N, CCR.N, LFV...    [PII.N]  \n",
       "2015-12-07  [CNC.N, H.N, MVO.N, STRA.OQ, TEN.N, CCR.N, MMI...  [CVLG.OQ]  \n",
       "2015-12-08  [CNC.N, H.N, STRA.OQ, TEN.N, CCR.N, LFVN.OQ, M...    [UNP.N]  "
      ]
     },
     "execution_count": 31,
     "metadata": {},
     "output_type": "execute_result"
    }
   ],
   "source": [
    "top_50_daily.head(8)"
   ]
  },
  {
   "cell_type": "code",
   "execution_count": 32,
   "metadata": {},
   "outputs": [],
   "source": [
    "#setting the date as index on the dataframe df:\n",
    "df.set_index('Date', inplace = True, drop = False)\n",
    "\n",
    "#Computing the daily returns on each stock, on the whole period, on the df dataframe:\n",
    "df['daily_return'] = df.groupby('Firm')['Price'].pct_change()"
   ]
  },
  {
   "cell_type": "code",
   "execution_count": 33,
   "metadata": {},
   "outputs": [
    {
     "data": {
      "text/plain": [
       "True"
      ]
     },
     "execution_count": 33,
     "metadata": {},
     "output_type": "execute_result"
    }
   ],
   "source": [
    "(df.groupby('Firm')['Price'].pct_change().index == df.index).all() #checking if it adds up"
   ]
  },
  {
   "cell_type": "code",
   "execution_count": 34,
   "metadata": {},
   "outputs": [],
   "source": [
    "#Finally, here I'm inserting the daily returns of the chosen stocks, on the week we are going long on them\n",
    "#Note that I am using the original 'df', because I don not want to lose price information\n",
    "returns = pd.DataFrame(columns = ['Date','Firm','Price'])\n",
    "\n",
    "for day in top_50_daily.index[4:len(top_50_daily)-5]:\n",
    "    if type(top_50_daily.loc[day,'bronze']) == list and len(top_50_daily.loc[day,'bronze']) > 0:\n",
    "        for firm in top_50_daily.loc[day,'bronze']:\n",
    "            returns = returns.append(df.loc[df['Firm']==firm].loc[day +relativedelta(days = +1): day+ relativedelta(days = +7), ['Date','Firm','Price', 'daily_return']])"
   ]
  },
  {
   "cell_type": "markdown",
   "metadata": {},
   "source": [
    "#### Cumulative sum of returns"
   ]
  },
  {
   "cell_type": "code",
   "execution_count": 35,
   "metadata": {},
   "outputs": [
    {
     "data": {
      "text/plain": [
       "<matplotlib.axes._subplots.AxesSubplot at 0x1d682bf1fc8>"
      ]
     },
     "execution_count": 35,
     "metadata": {},
     "output_type": "execute_result"
    },
    {
     "data": {
      "image/png": "[encoded data removed]",
      "text/plain": [
       "<Figure size 432x288 with 1 Axes>"
      ]
     },
     "metadata": {
      "needs_background": "light"
     },
     "output_type": "display_data"
    }
   ],
   "source": [
    "returns.groupby('Date')['daily_return'].mean().cumsum().plot()"
   ]
  },
  {
   "cell_type": "markdown",
   "metadata": {},
   "source": [
    "#### Cumulative Product of returns"
   ]
  },
  {
   "cell_type": "code",
   "execution_count": 36,
   "metadata": {},
   "outputs": [
    {
     "data": {
      "text/plain": [
       "<matplotlib.axes._subplots.AxesSubplot at 0x1d682bfe848>"
      ]
     },
     "execution_count": 36,
     "metadata": {},
     "output_type": "execute_result"
    },
    {
     "data": {
      "image/png": "[encoded data removed]",
      "text/plain": [
       "<Figure size 432x288 with 1 Axes>"
      ]
     },
     "metadata": {
      "needs_background": "light"
     },
     "output_type": "display_data"
    }
   ],
   "source": [
    "(returns.groupby('Date')['daily_return'].mean() +1).cumprod().plot()"
   ]
  },
  {
   "cell_type": "markdown",
   "metadata": {},
   "source": [
    "#### Descriptive statistics of the investment strategy"
   ]
  },
  {
   "cell_type": "markdown",
   "metadata": {},
   "source": [
    "Descriptive statistics"
   ]
  },
  {
   "cell_type": "code",
   "execution_count": 37,
   "metadata": {},
   "outputs": [
    {
     "data": {
      "text/plain": [
       "count    1142.000000\n",
       "mean        0.001520\n",
       "std         0.025469\n",
       "min        -0.256486\n",
       "25%        -0.008344\n",
       "50%         0.001154\n",
       "75%         0.011531\n",
       "max         0.264335\n",
       "Name: daily_return, dtype: float64"
      ]
     },
     "execution_count": 37,
     "metadata": {},
     "output_type": "execute_result"
    }
   ],
   "source": [
    "returns.groupby('Date')['daily_return'].mean().describe()"
   ]
  },
  {
   "cell_type": "code",
   "execution_count": 38,
   "metadata": {},
   "outputs": [
    {
     "name": "stdout",
     "output_type": "stream",
     "text": [
      "\u001b[1mBACKTESTING RESULTS\n",
      "Average yearly returns: 38.32%\n",
      "Average yearly standard deviation: 40.43%\n",
      "Sharpe Ratio: 0.9353234849530744\n"
     ]
    }
   ],
   "source": [
    "print('\\033[1m' +'BACKTESTING RESULTS')\n",
    "mean = returns.groupby('Date')['daily_return'].mean().mean()*252*100\n",
    "stdev = returns.groupby('Date')['daily_return'].mean().std()*(252**0.5)*100\n",
    "print('Average yearly returns: {}%'.format(round(mean,2)))\n",
    "print('Average yearly standard deviation: {}%'.format(round(stdev,2)))\n",
    "print('Sharpe Ratio: {}'.format((mean-0.5)/stdev)) #assuming rf is 0.005 (computed from FF website, average of the period)"
   ]
  },
  {
   "cell_type": "markdown",
   "metadata": {},
   "source": [
    "5 Worst performing stocks"
   ]
  },
  {
   "cell_type": "code",
   "execution_count": 39,
   "metadata": {},
   "outputs": [
    {
     "data": {
      "text/html": [
       "<div>\n",
       "<style scoped>\n",
       "    .dataframe tbody tr th:only-of-type {\n",
       "        vertical-align: middle;\n",
       "    }\n",
       "\n",
       "    .dataframe tbody tr th {\n",
       "        vertical-align: top;\n",
       "    }\n",
       "\n",
       "    .dataframe thead th {\n",
       "        text-align: right;\n",
       "    }\n",
       "</style>\n",
       "<table border=\"1\" class=\"dataframe\">\n",
       "  <thead>\n",
       "    <tr style=\"text-align: right;\">\n",
       "      <th></th>\n",
       "      <th>Date</th>\n",
       "      <th>Firm</th>\n",
       "      <th>Price</th>\n",
       "      <th>daily_return</th>\n",
       "    </tr>\n",
       "  </thead>\n",
       "  <tbody>\n",
       "    <tr>\n",
       "      <th>2017-10-12</th>\n",
       "      <td>2017-10-12</td>\n",
       "      <td>JILL.N</td>\n",
       "      <td>20.3916</td>\n",
       "      <td>-0.510574</td>\n",
       "    </tr>\n",
       "    <tr>\n",
       "      <th>2019-11-08</th>\n",
       "      <td>2019-11-08</td>\n",
       "      <td>MED.N</td>\n",
       "      <td>74.3600</td>\n",
       "      <td>-0.270980</td>\n",
       "    </tr>\n",
       "    <tr>\n",
       "      <th>2018-06-18</th>\n",
       "      <td>2018-06-18</td>\n",
       "      <td>AMEH.OQ</td>\n",
       "      <td>20.1300</td>\n",
       "      <td>-0.221578</td>\n",
       "    </tr>\n",
       "    <tr>\n",
       "      <th>2020-03-18</th>\n",
       "      <td>2020-03-18</td>\n",
       "      <td>TDG.N</td>\n",
       "      <td>245.7900</td>\n",
       "      <td>-0.219739</td>\n",
       "    </tr>\n",
       "    <tr>\n",
       "      <th>2017-09-08</th>\n",
       "      <td>2017-09-08</td>\n",
       "      <td>LFVN.OQ</td>\n",
       "      <td>3.8800</td>\n",
       "      <td>-0.193347</td>\n",
       "    </tr>\n",
       "  </tbody>\n",
       "</table>\n",
       "</div>"
      ],
      "text/plain": [
       "                 Date     Firm     Price  daily_return\n",
       "2017-10-12 2017-10-12   JILL.N   20.3916     -0.510574\n",
       "2019-11-08 2019-11-08    MED.N   74.3600     -0.270980\n",
       "2018-06-18 2018-06-18  AMEH.OQ   20.1300     -0.221578\n",
       "2020-03-18 2020-03-18    TDG.N  245.7900     -0.219739\n",
       "2017-09-08 2017-09-08  LFVN.OQ    3.8800     -0.193347"
      ]
     },
     "execution_count": 39,
     "metadata": {},
     "output_type": "execute_result"
    }
   ],
   "source": [
    "returns.nsmallest(5, columns = 'daily_return')"
   ]
  },
  {
   "cell_type": "markdown",
   "metadata": {},
   "source": [
    "#### Checking how these stocks performed the week before:"
   ]
  },
  {
   "cell_type": "code",
   "execution_count": 40,
   "metadata": {},
   "outputs": [],
   "source": [
    "returns_reversed = pd.DataFrame(columns = ['Date','Firm','Price'])\n",
    "\n",
    "for day in top_50_daily.index[4:len(top_50_daily)-5]:\n",
    "    if type(top_50_daily.loc[day,'bronze']) == list and len(top_50_daily.loc[day,'bronze']) > 0:\n",
    "        for firm in top_50_daily.loc[day,'bronze']:\n",
    "            returns_reversed = returns_reversed.append(df.loc[df['Firm']==firm].loc[day +relativedelta(days = -6): day, ['Date','Firm','Price', 'daily_return']])"
   ]
  },
  {
   "cell_type": "markdown",
   "metadata": {},
   "source": [
    "Cumulative sum of returns"
   ]
  },
  {
   "cell_type": "code",
   "execution_count": 41,
   "metadata": {},
   "outputs": [
    {
     "data": {
      "text/plain": [
       "<matplotlib.axes._subplots.AxesSubplot at 0x1d682573788>"
      ]
     },
     "execution_count": 41,
     "metadata": {},
     "output_type": "execute_result"
    },
    {
     "data": {
      "image/png": "[encoded data removed]",
      "text/plain": [
       "<Figure size 432x288 with 1 Axes>"
      ]
     },
     "metadata": {
      "needs_background": "light"
     },
     "output_type": "display_data"
    }
   ],
   "source": [
    "returns_reversed.groupby('Date')['daily_return'].mean().cumsum().plot()"
   ]
  },
  {
   "cell_type": "markdown",
   "metadata": {},
   "source": [
    "Cumulative product of returns"
   ]
  },
  {
   "cell_type": "code",
   "execution_count": 42,
   "metadata": {},
   "outputs": [
    {
     "data": {
      "text/plain": [
       "<matplotlib.axes._subplots.AxesSubplot at 0x1d682d36b88>"
      ]
     },
     "execution_count": 42,
     "metadata": {},
     "output_type": "execute_result"
    },
    {
     "data": {
      "image/png": "[encoded data removed]",
      "text/plain": [
       "<Figure size 432x288 with 1 Axes>"
      ]
     },
     "metadata": {
      "needs_background": "light"
     },
     "output_type": "display_data"
    }
   ],
   "source": [
    "(returns_reversed.groupby('Date')['daily_return'].mean()+1).cumprod().plot()"
   ]
  },
  {
   "cell_type": "code",
   "execution_count": 43,
   "metadata": {},
   "outputs": [
    {
     "data": {
      "text/plain": [
       "count    1138.000000\n",
       "mean       -0.003014\n",
       "std         0.028217\n",
       "min        -0.154044\n",
       "25%        -0.013669\n",
       "50%        -0.001548\n",
       "75%         0.008153\n",
       "max         0.296885\n",
       "Name: daily_return, dtype: float64"
      ]
     },
     "execution_count": 43,
     "metadata": {},
     "output_type": "execute_result"
    }
   ],
   "source": [
    "returns_reversed.groupby('Date')['daily_return'].mean().describe()"
   ]
  },
  {
   "cell_type": "code",
   "execution_count": 44,
   "metadata": {},
   "outputs": [
    {
     "name": "stdout",
     "output_type": "stream",
     "text": [
      "\u001b[1mBACKTESTING RESULTS\n",
      "Average yearly returns: -75.96%\n",
      "Average yearly standard deviation: 44.79%\n",
      "Sharpe Ratio: -1.7068480091852005\n"
     ]
    }
   ],
   "source": [
    "print('\\033[1m' +'BACKTESTING RESULTS')\n",
    "mean = returns_reversed.groupby('Date')['daily_return'].mean().mean()*252*100\n",
    "stdev = returns_reversed.groupby('Date')['daily_return'].mean().std()*(252**0.5)*100\n",
    "print('Average yearly returns: {}%'.format(round(mean,2)))\n",
    "print('Average yearly standard deviation: {}%'.format(round(stdev,2)))\n",
    "print('Sharpe Ratio: {}'.format((mean-0.5)/stdev)) #assuming rf is 0.005 (computed from FF website, average of the period)"
   ]
  },
  {
   "cell_type": "markdown",
   "metadata": {},
   "source": [
    "#### Adjusting the original strategy:\n",
    "What if we did not buy that one stupid stock with the bad news (which was the worst performing one)?"
   ]
  },
  {
   "cell_type": "markdown",
   "metadata": {},
   "source": [
    "Cumulative product of returns"
   ]
  },
  {
   "cell_type": "code",
   "execution_count": 45,
   "metadata": {},
   "outputs": [
    {
     "data": {
      "text/plain": [
       "<matplotlib.axes._subplots.AxesSubplot at 0x1d682db0588>"
      ]
     },
     "execution_count": 45,
     "metadata": {},
     "output_type": "execute_result"
    },
    {
     "data": {
      "image/png": "[encoded data removed]",
      "text/plain": [
       "<Figure size 432x288 with 1 Axes>"
      ]
     },
     "metadata": {
      "needs_background": "light"
     },
     "output_type": "display_data"
    }
   ],
   "source": [
    "(returns.drop(index = returns.nsmallest(2, columns = ['daily_return']).index).groupby('Date')['daily_return'].mean() +1).cumprod().plot()"
   ]
  },
  {
   "cell_type": "code",
   "execution_count": 46,
   "metadata": {},
   "outputs": [
    {
     "data": {
      "text/plain": [
       "count    1140.000000\n",
       "mean        0.001791\n",
       "std         0.024270\n",
       "min        -0.176664\n",
       "25%        -0.008277\n",
       "50%         0.001175\n",
       "75%         0.011576\n",
       "max         0.264335\n",
       "Name: daily_return, dtype: float64"
      ]
     },
     "execution_count": 46,
     "metadata": {},
     "output_type": "execute_result"
    }
   ],
   "source": [
    "returns.drop(index = returns.nsmallest(2, columns = ['daily_return']).index).groupby('Date')['daily_return'].mean().describe()"
   ]
  },
  {
   "cell_type": "code",
   "execution_count": 47,
   "metadata": {},
   "outputs": [
    {
     "name": "stdout",
     "output_type": "stream",
     "text": [
      "\u001b[1mBACKTESTING RESULTS\n",
      "Average yearly returns: 44.01%\n",
      "Average yearly standard deviation: 38.58%\n",
      "Sharpe Ratio: 1.1405791585042762\n"
     ]
    }
   ],
   "source": [
    "print('\\033[1m' + 'BACKTESTING RESULTS')\n",
    "mean = returns.drop(index = returns.nsmallest(1, columns = ['daily_return']).index).groupby('Date')['daily_return'].mean().mean()*252*100\n",
    "stdev = returns.drop(index = returns.nsmallest(1, columns = ['daily_return']).index).groupby('Date')['daily_return'].mean().std()*(252**0.5)*100\n",
    "print('Average yearly returns: {}%'.format(round(mean,2)))\n",
    "print('Average yearly standard deviation: {}%'.format(round(stdev,2)))\n",
    "print('Sharpe Ratio: {}'.format((mean-0.005)/stdev)) #assuming rf is 0.005 (computed from FF website, average of the period)"
   ]
  },
  {
   "cell_type": "code",
   "execution_count": null,
   "metadata": {},
   "outputs": [],
   "source": []
  }
 ],
 "metadata": {
  "kernelspec": {
   "display_name": "Python 3",
   "language": "python",
   "name": "python3"
  },
  "language_info": {
   "codemirror_mode": {
    "name": "ipython",
    "version": 3
   },
   "file_extension": ".py",
   "mimetype": "text/x-python",
   "name": "python",
   "nbconvert_exporter": "python",
   "pygments_lexer": "ipython3",
   "version": "3.7.9"
  }
 },
 "nbformat": 4,
 "nbformat_minor": 4
}
