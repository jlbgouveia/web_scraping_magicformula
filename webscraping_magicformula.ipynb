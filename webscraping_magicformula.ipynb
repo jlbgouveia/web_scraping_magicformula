{
 "cells": [
  {
   "cell_type": "markdown",
   "metadata": {},
   "source": [
    "In this file:\n",
    "\n",
    "The goal is to create a daily excel file, with the top 50 firms (Market Cap > 50m) according to [magic formula investing](https://www.magicformulainvesting.com/) table. This file is then sent to my own personal email every day.\n",
    "\n",
    "To do this, I will need to perform the following steps:\n",
    "\n",
    "1. login onto the website (magicformulainvesting.com)\n",
    "2. Perform the screening: top 50 stocks with Market Cap above 50M USD\n",
    "3. Web-Scrap the screened stocks - company name, ticker, price date, most recent quarter data\n",
    "4. Save virtually the dataframe to an excel file\n",
    "5. Send the excel file through email\n",
    "\n",
    "This proccess can automatically be repeated daily, through the cloud, on IBM Watson."
   ]
  },
  {
   "cell_type": "code",
   "execution_count": null,
   "metadata": {},
   "outputs": [],
   "source": [
    "import requests\n",
    "from bs4 import BeautifulSoup\n",
    "\n",
    "import pandas as pd\n",
    "import numpy as np\n",
    "\n",
    "#to send email:\n",
    "import smtplib,ssl\n",
    "from email.mime.multipart import MIMEMultipart\n",
    "from email.mime.application import MIMEApplication\n",
    "from email.mime.base import MIMEBase\n",
    "from email.mime.text import MIMEText\n",
    "from email.utils import formatdate\n",
    "from email import encoders\n",
    "\n",
    "import io"
   ]
  },
  {
   "cell_type": "markdown",
   "metadata": {},
   "source": [
    "##### Your Personal Information:"
   ]
  },
  {
   "cell_type": "code",
   "execution_count": null,
   "metadata": {},
   "outputs": [],
   "source": [
    "#your magicformulainvesting email and password:\n",
    "email_mf = 'insert_email_here'\n",
    "password_mf = 'insert_your_password'\n",
    "\n",
    "#your email gmail account information:\n",
    "send_from = 'insert_email_here'\n",
    "password = 'insert_your_password'\n",
    "send_to = 'insert_email_here'"
   ]
  },
  {
   "cell_type": "markdown",
   "metadata": {},
   "source": [
    "#### Logging in to the magic formula website website"
   ]
  },
  {
   "cell_type": "code",
   "execution_count": null,
   "metadata": {},
   "outputs": [],
   "source": [
    "login_data = {'Email': email_mf,\n",
    "'Password': password_mf,\n",
    "'login': 'Login'}\n",
    "\n",
    "conditions = {'MinimumMarketCap': '50',\n",
    "'Select30': 'false',\n",
    "'stocks': 'Get Stocks'}"
   ]
  },
  {
   "cell_type": "code",
   "execution_count": null,
   "metadata": {},
   "outputs": [],
   "source": [
    "#Because we are loggin in, we need to create a session:\n",
    "with requests.Session() as s:\n",
    "    url = 'https://www.magicformulainvesting.com/Account/Logon'\n",
    "    r = s.get(url)\n",
    "    soup = BeautifulSoup(r.content, 'html5lib')\n",
    "    \n",
    "    r = s.post(url, data = login_data) #logging in\n",
    "    \n",
    "    #Now we need to request the top 50, with market cap above 50\n",
    "    r = s.post( 'https://www.magicformulainvesting.com/Screening/StockScreening',data = conditions)"
   ]
  },
  {
   "cell_type": "markdown",
   "metadata": {},
   "source": [
    "##### Now that we are logged in on the desired page, we can start the web scrapping"
   ]
  },
  {
   "cell_type": "code",
   "execution_count": null,
   "metadata": {},
   "outputs": [],
   "source": [
    "#Information we will scrap:\n",
    "company_name = []\n",
    "company_ticker = []\n",
    "market_cap = []\n",
    "date_price = []\n",
    "most_recent_quarter_data = []\n",
    "\n",
    "soup = BeautifulSoup(r.text, 'html.parser')\n",
    "#appending odd_rows:\n",
    "for i in soup.find_all('tr', attrs = {'class':\"altrow\"}):\n",
    "    company_name.append(i.find_all('td')[0].text.strip())\n",
    "    company_ticker.append(i.find_all('td')[1].text.strip())\n",
    "    market_cap.append(i.find_all('td')[2].text.strip())\n",
    "    date_price.append(i.find_all('td')[3].text.strip())\n",
    "    most_recent_quarter_data.append(i.find_all('td')[4].text.strip())\n",
    "    \n",
    "#For the even rows, the website maintained the class as class = \"\", which will make us select more information than needed when \n",
    "#performing the soup.find_all('tr', attrs = {'class':\"\"}) - so, we'll need to use a conditional statement within the loop:\n",
    "\n",
    "for i in soup.find_all('tr', attrs = {'class': \"\"}):\n",
    "    if len(i.find_all('td')) == 5:\n",
    "        company_name.append(i.find_all('td')[0].text.strip())\n",
    "        company_ticker.append(i.find_all('td')[1].text.strip())\n",
    "        market_cap.append(i.find_all('td')[2].text.strip())\n",
    "        date_price.append(i.find_all('td')[3].text.strip())\n",
    "        most_recent_quarter_data.append(i.find_all('td')[4].text.strip())"
   ]
  },
  {
   "cell_type": "markdown",
   "metadata": {},
   "source": [
    "Now let's turn this information into a pandas dataframe"
   ]
  },
  {
   "cell_type": "code",
   "execution_count": null,
   "metadata": {},
   "outputs": [],
   "source": [
    "df_mf = pd.DataFrame({'company name': company_name, \n",
    "              'ticker': company_ticker, \n",
    "              'price date': date_price,\n",
    "              'most recent quarter data': most_recent_quarter_data})\n",
    "df_mf = df_mf.sort_values('company name').reset_index(drop = True) #sorting by company name"
   ]
  },
  {
   "cell_type": "code",
   "execution_count": null,
   "metadata": {},
   "outputs": [],
   "source": [
    "df_mf"
   ]
  },
  {
   "cell_type": "markdown",
   "metadata": {},
   "source": [
    "##### Sending email with the excel file:"
   ]
  },
  {
   "cell_type": "code",
   "execution_count": null,
   "metadata": {},
   "outputs": [],
   "source": [
    "#function to export the dataframe to excel format\n",
    "def export_excel(df):\n",
    "    with io.BytesIO() as buffer:\n",
    "        writer = pd.ExcelWriter(buffer)\n",
    "        df.to_excel(writer)\n",
    "        writer.save()\n",
    "        return buffer.getvalue()"
   ]
  },
  {
   "cell_type": "code",
   "execution_count": null,
   "metadata": {},
   "outputs": [],
   "source": [
    "#email content:\n",
    "subject = 'Magic Formula: Top 50 Stocks'\n",
    "body = \"\"\"Good morning,\n",
    "Please find attached today's top 50 stocks according to the magic formula investing website.\n",
    "Kind regards,\n",
    "Zé \"\"\"\n",
    "EXPORTERS = {'magic_formula.xlsx': export_excel} #in case you want to export several files, add more to the dictionary\n",
    "\n",
    "#sending through gmail:\n",
    "server = 'smtp.gmail.com'\n",
    "port = 587"
   ]
  },
  {
   "cell_type": "code",
   "execution_count": null,
   "metadata": {},
   "outputs": [],
   "source": [
    "#create funtion to send email:\n",
    "def send_mail(send_from,send_to,subject,text,files,server,port,password,isTls=True):\n",
    "    msg = MIMEMultipart()\n",
    "    msg['From'] = send_from\n",
    "    msg['To'] = send_to\n",
    "    msg['Date'] = formatdate(localtime = True)\n",
    "    msg['Subject'] = subject\n",
    "    msg.attach(MIMEText(text))\n",
    "\n",
    "    part = MIMEBase('application', \"octet-stream\")\n",
    "    part.set_payload(open(\"WorkBook3.xlsx\", \"rb\").read())\n",
    "    encoders.encode_base64(part)\n",
    "    part.add_header('Content-Disposition', 'attachment; filename=\"WorkBook3.xlsx\"')\n",
    "    msg.attach(part)\n",
    "\n",
    "    #context = ssl.SSLContext(ssl.PROTOCOL_SSLv3)\n",
    "    #SSL connection only working on Python 3+\n",
    "    smtp = smtplib.SMTP(server, port)\n",
    "    if isTls:\n",
    "        smtp.starttls()\n",
    "    smtp.login(send_from,password)\n",
    "    smtp.sendmail(send_from, send_to, msg.as_string())\n",
    "    smtp.quit()"
   ]
  },
  {
   "cell_type": "code",
   "execution_count": null,
   "metadata": {},
   "outputs": [],
   "source": [
    "#from email.mime.application import MIMEApplication\n",
    "#from email.mime.multipart import MIMEMultipart\n",
    "#from email.mime.text import MIMEText\n",
    "#import smtplib\n",
    "\n",
    "#Create function to send email:\n",
    "\n",
    "def send_dataframe(df, isTls = True):\n",
    "    \n",
    "    multipart = MIMEMultipart()\n",
    "    multipart['From'] = send_from\n",
    "    multipart['To'] = send_to\n",
    "    multipart['Subject'] = subject\n",
    "    for filename in EXPORTERS:\n",
    "        attachment = MIMEApplication(EXPORTERS[filename](df))\n",
    "        attachment['Content-Disposition'] = 'attachment; filename=\"{}\"'.format(filename)\n",
    "        multipart.attach(attachment)\n",
    "    multipart.attach(MIMEText(body, 'html'))\n",
    "    \n",
    "    smtp = smtplib.SMTP(server, port)\n",
    "    if isTls:\n",
    "        smtp.starttls()\n",
    "    smtp.login(send_from,password)\n",
    "    smtp.sendmail(send_from, send_to, multipart.as_string())\n",
    "    smtp.quit()"
   ]
  },
  {
   "cell_type": "code",
   "execution_count": null,
   "metadata": {},
   "outputs": [],
   "source": [
    "send_dataframe(df = df_mf)"
   ]
  },
  {
   "cell_type": "markdown",
   "metadata": {},
   "source": [
    "And it is done! Hopefully you learned something.\n",
    "\n",
    "To automate this process daily, you may use IBM Watson Studio to run your code on the cloud. It's really cool because you do not need to have your pc turned on, or linked to the internet, to have it run every day. Please check the following tuturial on how to automate the process: [Scheduling a Notebook - IBM Watson Studio](https://www.ibm.com/support/producthub/icpdata/docs/content/SSQNUZ_latest/wsj/analyze-data/schedule-task.html)\n",
    "\n",
    "If you are confused on how this whole process worked out (I know I would be), please check out the below tuturials, with a more basic approach on how to perform web-scrapping, loggin-in to a website, and sending a dataframe through email, all using python.\n",
    "\n",
    "Have a good one!"
   ]
  },
  {
   "cell_type": "markdown",
   "metadata": {},
   "source": [
    "Sources:   \n",
    "Logging in into the website: [Indian Pythonista youtube video](https://www.youtube.com/watch?v=fmf_y8zpOgA)   \n",
    "Web-Scrapping: [Computer Science web scraping youtube video](https://www.youtube.com/watch?v=Cb_5A6geOUw&list=LL&index=2)   \n",
    "Sending DataFrame on Excel file through gmail: [snooze92's answer on stackoverflow](https://stackoverflow.com/questions/39999964/send-email-with-a-pandas-dataframe-as-attachment/49298990)"
   ]
  }
 ],
 "metadata": {
  "kernelspec": {
   "display_name": "Python 3",
   "language": "python",
   "name": "python3"
  },
  "language_info": {
   "codemirror_mode": {
    "name": "ipython",
    "version": 3
   },
   "file_extension": ".py",
   "mimetype": "text/x-python",
   "name": "python",
   "nbconvert_exporter": "python",
   "pygments_lexer": "ipython3",
   "version": "3.7.9"
  }
 },
 "nbformat": 4,
 "nbformat_minor": 4
}
